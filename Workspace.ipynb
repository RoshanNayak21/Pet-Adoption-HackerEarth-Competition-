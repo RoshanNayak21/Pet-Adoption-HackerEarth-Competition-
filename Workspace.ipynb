{
 "cells": [
  {
   "cell_type": "markdown",
   "metadata": {},
   "source": [
    "## Import Libraries"
   ]
  },
  {
   "cell_type": "code",
   "execution_count": 45,
   "metadata": {},
   "outputs": [],
   "source": [
    "import pandas as pd\n",
    "import numpy as np\n",
    "import os\n",
    "import matplotlib.pyplot as plt\n",
    "import seaborn as sns\n",
    "from sklearn.preprocessing import LabelEncoder"
   ]
  },
  {
   "cell_type": "markdown",
   "metadata": {},
   "source": [
    "## Read the data"
   ]
  },
  {
   "cell_type": "code",
   "execution_count": 46,
   "metadata": {},
   "outputs": [
    {
     "data": {
      "text/html": [
       "<div>\n",
       "<style scoped>\n",
       "    .dataframe tbody tr th:only-of-type {\n",
       "        vertical-align: middle;\n",
       "    }\n",
       "\n",
       "    .dataframe tbody tr th {\n",
       "        vertical-align: top;\n",
       "    }\n",
       "\n",
       "    .dataframe thead th {\n",
       "        text-align: right;\n",
       "    }\n",
       "</style>\n",
       "<table border=\"1\" class=\"dataframe\">\n",
       "  <thead>\n",
       "    <tr style=\"text-align: right;\">\n",
       "      <th></th>\n",
       "      <th>issue_date</th>\n",
       "      <th>listing_date</th>\n",
       "      <th>condition</th>\n",
       "      <th>color_type</th>\n",
       "      <th>length(m)</th>\n",
       "      <th>height(cm)</th>\n",
       "      <th>X1</th>\n",
       "      <th>X2</th>\n",
       "      <th>breed_category</th>\n",
       "      <th>pet_category</th>\n",
       "    </tr>\n",
       "  </thead>\n",
       "  <tbody>\n",
       "    <tr>\n",
       "      <th>0</th>\n",
       "      <td>2016-07-10 00:00:00</td>\n",
       "      <td>2016-09-21 16:25:00</td>\n",
       "      <td>2.0</td>\n",
       "      <td>Brown Tabby</td>\n",
       "      <td>0.80</td>\n",
       "      <td>7.78</td>\n",
       "      <td>13</td>\n",
       "      <td>9</td>\n",
       "      <td>0.0</td>\n",
       "      <td>1</td>\n",
       "    </tr>\n",
       "    <tr>\n",
       "      <th>1</th>\n",
       "      <td>2013-11-21 00:00:00</td>\n",
       "      <td>2018-12-27 17:47:00</td>\n",
       "      <td>1.0</td>\n",
       "      <td>White</td>\n",
       "      <td>0.72</td>\n",
       "      <td>14.19</td>\n",
       "      <td>13</td>\n",
       "      <td>9</td>\n",
       "      <td>0.0</td>\n",
       "      <td>2</td>\n",
       "    </tr>\n",
       "    <tr>\n",
       "      <th>2</th>\n",
       "      <td>2014-09-28 00:00:00</td>\n",
       "      <td>2016-10-19 08:24:00</td>\n",
       "      <td>NaN</td>\n",
       "      <td>Brown</td>\n",
       "      <td>0.15</td>\n",
       "      <td>40.90</td>\n",
       "      <td>15</td>\n",
       "      <td>4</td>\n",
       "      <td>2.0</td>\n",
       "      <td>4</td>\n",
       "    </tr>\n",
       "    <tr>\n",
       "      <th>3</th>\n",
       "      <td>2016-12-31 00:00:00</td>\n",
       "      <td>2019-01-25 18:30:00</td>\n",
       "      <td>1.0</td>\n",
       "      <td>White</td>\n",
       "      <td>0.62</td>\n",
       "      <td>17.82</td>\n",
       "      <td>0</td>\n",
       "      <td>1</td>\n",
       "      <td>0.0</td>\n",
       "      <td>2</td>\n",
       "    </tr>\n",
       "    <tr>\n",
       "      <th>4</th>\n",
       "      <td>2017-09-28 00:00:00</td>\n",
       "      <td>2017-11-19 09:38:00</td>\n",
       "      <td>2.0</td>\n",
       "      <td>Black</td>\n",
       "      <td>0.50</td>\n",
       "      <td>11.06</td>\n",
       "      <td>18</td>\n",
       "      <td>4</td>\n",
       "      <td>0.0</td>\n",
       "      <td>1</td>\n",
       "    </tr>\n",
       "  </tbody>\n",
       "</table>\n",
       "</div>"
      ],
      "text/plain": [
       "            issue_date         listing_date  condition   color_type  \\\n",
       "0  2016-07-10 00:00:00  2016-09-21 16:25:00        2.0  Brown Tabby   \n",
       "1  2013-11-21 00:00:00  2018-12-27 17:47:00        1.0        White   \n",
       "2  2014-09-28 00:00:00  2016-10-19 08:24:00        NaN        Brown   \n",
       "3  2016-12-31 00:00:00  2019-01-25 18:30:00        1.0        White   \n",
       "4  2017-09-28 00:00:00  2017-11-19 09:38:00        2.0        Black   \n",
       "\n",
       "   length(m)  height(cm)  X1  X2  breed_category  pet_category  \n",
       "0       0.80        7.78  13   9             0.0             1  \n",
       "1       0.72       14.19  13   9             0.0             2  \n",
       "2       0.15       40.90  15   4             2.0             4  \n",
       "3       0.62       17.82   0   1             0.0             2  \n",
       "4       0.50       11.06  18   4             0.0             1  "
      ]
     },
     "execution_count": 46,
     "metadata": {},
     "output_type": "execute_result"
    }
   ],
   "source": [
    "data = pd.read_csv('Dataset/train.csv')\n",
    "data.drop(['pet_id'], axis=1, inplace=True)\n",
    "data.head()"
   ]
  },
  {
   "cell_type": "code",
   "execution_count": 47,
   "metadata": {},
   "outputs": [
    {
     "data": {
      "text/html": [
       "<div>\n",
       "<style scoped>\n",
       "    .dataframe tbody tr th:only-of-type {\n",
       "        vertical-align: middle;\n",
       "    }\n",
       "\n",
       "    .dataframe tbody tr th {\n",
       "        vertical-align: top;\n",
       "    }\n",
       "\n",
       "    .dataframe thead th {\n",
       "        text-align: right;\n",
       "    }\n",
       "</style>\n",
       "<table border=\"1\" class=\"dataframe\">\n",
       "  <thead>\n",
       "    <tr style=\"text-align: right;\">\n",
       "      <th></th>\n",
       "      <th>issue_date</th>\n",
       "      <th>listing_date</th>\n",
       "      <th>condition</th>\n",
       "      <th>color_type</th>\n",
       "      <th>length(m)</th>\n",
       "      <th>height(cm)</th>\n",
       "      <th>X1</th>\n",
       "      <th>X2</th>\n",
       "    </tr>\n",
       "  </thead>\n",
       "  <tbody>\n",
       "    <tr>\n",
       "      <th>0</th>\n",
       "      <td>2005-08-17 00:00:00</td>\n",
       "      <td>2017-09-07 15:35:00</td>\n",
       "      <td>0.0</td>\n",
       "      <td>Black</td>\n",
       "      <td>0.87</td>\n",
       "      <td>42.73</td>\n",
       "      <td>0</td>\n",
       "      <td>7</td>\n",
       "    </tr>\n",
       "    <tr>\n",
       "      <th>1</th>\n",
       "      <td>2018-11-15 00:00:00</td>\n",
       "      <td>2019-05-08 17:24:00</td>\n",
       "      <td>1.0</td>\n",
       "      <td>Orange Tabby</td>\n",
       "      <td>0.06</td>\n",
       "      <td>6.71</td>\n",
       "      <td>0</td>\n",
       "      <td>1</td>\n",
       "    </tr>\n",
       "    <tr>\n",
       "      <th>2</th>\n",
       "      <td>2012-10-11 00:00:00</td>\n",
       "      <td>2018-04-02 16:51:00</td>\n",
       "      <td>1.0</td>\n",
       "      <td>Black</td>\n",
       "      <td>0.24</td>\n",
       "      <td>41.21</td>\n",
       "      <td>0</td>\n",
       "      <td>7</td>\n",
       "    </tr>\n",
       "    <tr>\n",
       "      <th>3</th>\n",
       "      <td>2015-02-13 00:00:00</td>\n",
       "      <td>2018-04-06 07:25:00</td>\n",
       "      <td>1.0</td>\n",
       "      <td>Black</td>\n",
       "      <td>0.29</td>\n",
       "      <td>8.46</td>\n",
       "      <td>7</td>\n",
       "      <td>1</td>\n",
       "    </tr>\n",
       "    <tr>\n",
       "      <th>4</th>\n",
       "      <td>2017-01-18 00:00:00</td>\n",
       "      <td>2018-04-26 13:42:00</td>\n",
       "      <td>1.0</td>\n",
       "      <td>Brown</td>\n",
       "      <td>0.71</td>\n",
       "      <td>30.92</td>\n",
       "      <td>0</td>\n",
       "      <td>7</td>\n",
       "    </tr>\n",
       "  </tbody>\n",
       "</table>\n",
       "</div>"
      ],
      "text/plain": [
       "            issue_date         listing_date  condition    color_type  \\\n",
       "0  2005-08-17 00:00:00  2017-09-07 15:35:00        0.0         Black   \n",
       "1  2018-11-15 00:00:00  2019-05-08 17:24:00        1.0  Orange Tabby   \n",
       "2  2012-10-11 00:00:00  2018-04-02 16:51:00        1.0         Black   \n",
       "3  2015-02-13 00:00:00  2018-04-06 07:25:00        1.0         Black   \n",
       "4  2017-01-18 00:00:00  2018-04-26 13:42:00        1.0         Brown   \n",
       "\n",
       "   length(m)  height(cm)  X1  X2  \n",
       "0       0.87       42.73   0   7  \n",
       "1       0.06        6.71   0   1  \n",
       "2       0.24       41.21   0   7  \n",
       "3       0.29        8.46   7   1  \n",
       "4       0.71       30.92   0   7  "
      ]
     },
     "execution_count": 47,
     "metadata": {},
     "output_type": "execute_result"
    }
   ],
   "source": [
    "test_data = pd.read_csv('Dataset/test.csv')\n",
    "test_data.drop(['pet_id'], axis=1, inplace=True)\n",
    "test_data.head()"
   ]
  },
  {
   "cell_type": "markdown",
   "metadata": {},
   "source": [
    "## Data Preprocessing"
   ]
  },
  {
   "cell_type": "markdown",
   "metadata": {},
   "source": [
    "### Difference of dates"
   ]
  },
  {
   "cell_type": "code",
   "execution_count": 48,
   "metadata": {},
   "outputs": [],
   "source": [
    "from datetime import date\n",
    "\n",
    "def difference(cols):\n",
    "    x = cols[0].split(' ')\n",
    "    fx = x[0].split('-')\n",
    "    y = cols[1].split(' ')\n",
    "    fy = y[0].split('-')\n",
    "    f_date = date(int(fx[0]), int(fx[1]), int(fx[2]))\n",
    "    l_date = date(int(fy[0]), int(fy[1]), int(fy[2]))\n",
    "    return str(l_date - f_date).split(' ')[0]\n",
    "    \n",
    "data['days'] = data[['issue_date', 'listing_date']].apply(difference, axis=1)\n",
    "data.drop(['issue_date', 'listing_date'], axis=1, inplace=True)"
   ]
  },
  {
   "cell_type": "code",
   "execution_count": 49,
   "metadata": {},
   "outputs": [
    {
     "data": {
      "text/html": [
       "<div>\n",
       "<style scoped>\n",
       "    .dataframe tbody tr th:only-of-type {\n",
       "        vertical-align: middle;\n",
       "    }\n",
       "\n",
       "    .dataframe tbody tr th {\n",
       "        vertical-align: top;\n",
       "    }\n",
       "\n",
       "    .dataframe thead th {\n",
       "        text-align: right;\n",
       "    }\n",
       "</style>\n",
       "<table border=\"1\" class=\"dataframe\">\n",
       "  <thead>\n",
       "    <tr style=\"text-align: right;\">\n",
       "      <th></th>\n",
       "      <th>condition</th>\n",
       "      <th>color_type</th>\n",
       "      <th>length(m)</th>\n",
       "      <th>height(cm)</th>\n",
       "      <th>X1</th>\n",
       "      <th>X2</th>\n",
       "      <th>breed_category</th>\n",
       "      <th>pet_category</th>\n",
       "      <th>days</th>\n",
       "    </tr>\n",
       "  </thead>\n",
       "  <tbody>\n",
       "    <tr>\n",
       "      <th>0</th>\n",
       "      <td>2.0</td>\n",
       "      <td>Brown Tabby</td>\n",
       "      <td>0.80</td>\n",
       "      <td>7.78</td>\n",
       "      <td>13</td>\n",
       "      <td>9</td>\n",
       "      <td>0.0</td>\n",
       "      <td>1</td>\n",
       "      <td>73</td>\n",
       "    </tr>\n",
       "    <tr>\n",
       "      <th>1</th>\n",
       "      <td>1.0</td>\n",
       "      <td>White</td>\n",
       "      <td>0.72</td>\n",
       "      <td>14.19</td>\n",
       "      <td>13</td>\n",
       "      <td>9</td>\n",
       "      <td>0.0</td>\n",
       "      <td>2</td>\n",
       "      <td>1862</td>\n",
       "    </tr>\n",
       "    <tr>\n",
       "      <th>2</th>\n",
       "      <td>NaN</td>\n",
       "      <td>Brown</td>\n",
       "      <td>0.15</td>\n",
       "      <td>40.90</td>\n",
       "      <td>15</td>\n",
       "      <td>4</td>\n",
       "      <td>2.0</td>\n",
       "      <td>4</td>\n",
       "      <td>752</td>\n",
       "    </tr>\n",
       "    <tr>\n",
       "      <th>3</th>\n",
       "      <td>1.0</td>\n",
       "      <td>White</td>\n",
       "      <td>0.62</td>\n",
       "      <td>17.82</td>\n",
       "      <td>0</td>\n",
       "      <td>1</td>\n",
       "      <td>0.0</td>\n",
       "      <td>2</td>\n",
       "      <td>755</td>\n",
       "    </tr>\n",
       "    <tr>\n",
       "      <th>4</th>\n",
       "      <td>2.0</td>\n",
       "      <td>Black</td>\n",
       "      <td>0.50</td>\n",
       "      <td>11.06</td>\n",
       "      <td>18</td>\n",
       "      <td>4</td>\n",
       "      <td>0.0</td>\n",
       "      <td>1</td>\n",
       "      <td>52</td>\n",
       "    </tr>\n",
       "  </tbody>\n",
       "</table>\n",
       "</div>"
      ],
      "text/plain": [
       "   condition   color_type  length(m)  height(cm)  X1  X2  breed_category  \\\n",
       "0        2.0  Brown Tabby       0.80        7.78  13   9             0.0   \n",
       "1        1.0        White       0.72       14.19  13   9             0.0   \n",
       "2        NaN        Brown       0.15       40.90  15   4             2.0   \n",
       "3        1.0        White       0.62       17.82   0   1             0.0   \n",
       "4        2.0        Black       0.50       11.06  18   4             0.0   \n",
       "\n",
       "   pet_category  days  \n",
       "0             1    73  \n",
       "1             2  1862  \n",
       "2             4   752  \n",
       "3             2   755  \n",
       "4             1    52  "
      ]
     },
     "execution_count": 49,
     "metadata": {},
     "output_type": "execute_result"
    }
   ],
   "source": [
    "data.head()"
   ]
  },
  {
   "cell_type": "markdown",
   "metadata": {},
   "source": [
    "### Reduce the number of categories"
   ]
  },
  {
   "cell_type": "code",
   "execution_count": 50,
   "metadata": {},
   "outputs": [
    {
     "data": {
      "text/plain": [
       "Black                4620\n",
       "White                2453\n",
       "Brown                1791\n",
       "Brown Tabby          1687\n",
       "Tan                  1349\n",
       "Blue                  852\n",
       "Orange Tabby          791\n",
       "Red                   526\n",
       "Brown Brindle         496\n",
       "Tricolor              469\n",
       "Blue Tabby            386\n",
       "Tortie                366\n",
       "Calico                343\n",
       "Gray                  307\n",
       "Chocolate             259\n",
       "Torbie                242\n",
       "Cream Tabby           191\n",
       "Sable                 167\n",
       "Cream                 162\n",
       "Fawn                  159\n",
       "Yellow                143\n",
       "Buff                  125\n",
       "Lynx Point            117\n",
       "Blue Merle            104\n",
       "Seal Point             78\n",
       "Black Brindle          66\n",
       "Gray Tabby             65\n",
       "Black Tabby            55\n",
       "Flame Point            52\n",
       "Brown Merle            39\n",
       "Orange                 39\n",
       "Black Smoke            32\n",
       "Gold                   31\n",
       "Tortie Point           26\n",
       "Silver                 24\n",
       "Red Tick               23\n",
       "Blue Tick              21\n",
       "Blue Point             20\n",
       "Lilac Point            19\n",
       "Silver Tabby           18\n",
       "Yellow Brindle         15\n",
       "Red Merle              13\n",
       "Apricot                13\n",
       "Calico Point           12\n",
       "Blue Tiger             10\n",
       "Blue Cream             10\n",
       "Chocolate Point         9\n",
       "Pink                    8\n",
       "Green                   8\n",
       "Blue Smoke              6\n",
       "Brown Tiger             4\n",
       "Agouti                  4\n",
       "Silver Lynx Point       4\n",
       "Liver                   3\n",
       "Liver Tick              1\n",
       "Black Tiger             1\n",
       "Name: color_type, dtype: int64"
      ]
     },
     "execution_count": 50,
     "metadata": {},
     "output_type": "execute_result"
    }
   ],
   "source": [
    "data.color_type.value_counts()"
   ]
  },
  {
   "cell_type": "code",
   "execution_count": 51,
   "metadata": {},
   "outputs": [
    {
     "name": "stdout",
     "output_type": "stream",
     "text": [
      "['Cream Tabby', 'Sable', 'Cream', 'Fawn', 'Yellow', 'Buff', 'Lynx Point', 'Blue Merle', 'Seal Point', 'Black Brindle', 'Gray Tabby', 'Black Tabby', 'Flame Point', 'Brown Merle', 'Orange', 'Black Smoke', 'Gold', 'Tortie Point', 'Silver', 'Red Tick', 'Blue Tick', 'Blue Point', 'Lilac Point', 'Silver Tabby', 'Yellow Brindle', 'Red Merle', 'Apricot', 'Calico Point', 'Blue Tiger', 'Blue Cream', 'Chocolate Point', 'Pink', 'Green', 'Blue Smoke', 'Brown Tiger', 'Agouti', 'Silver Lynx Point', 'Liver', 'Liver Tick', 'Black Tiger']\n",
      "['Calico', 'Gray', 'Chocolate', 'Torbie']\n"
     ]
    }
   ],
   "source": [
    "color_type = dict(data.color_type.value_counts())\n",
    "rare = []\n",
    "average = []\n",
    "for key in color_type:\n",
    "    if color_type[key] <= 200:\n",
    "        rare.append(key)\n",
    "    elif color_type[key] > 200 and color_type[key] <= 350: #200, 350\n",
    "        average.append(key)\n",
    "\n",
    "print(rare)\n",
    "print(average)"
   ]
  },
  {
   "cell_type": "code",
   "execution_count": 52,
   "metadata": {},
   "outputs": [
    {
     "data": {
      "text/html": [
       "<div>\n",
       "<style scoped>\n",
       "    .dataframe tbody tr th:only-of-type {\n",
       "        vertical-align: middle;\n",
       "    }\n",
       "\n",
       "    .dataframe tbody tr th {\n",
       "        vertical-align: top;\n",
       "    }\n",
       "\n",
       "    .dataframe thead th {\n",
       "        text-align: right;\n",
       "    }\n",
       "</style>\n",
       "<table border=\"1\" class=\"dataframe\">\n",
       "  <thead>\n",
       "    <tr style=\"text-align: right;\">\n",
       "      <th></th>\n",
       "      <th>condition</th>\n",
       "      <th>color_type</th>\n",
       "      <th>length(m)</th>\n",
       "      <th>height(cm)</th>\n",
       "      <th>X1</th>\n",
       "      <th>X2</th>\n",
       "      <th>breed_category</th>\n",
       "      <th>pet_category</th>\n",
       "      <th>days</th>\n",
       "    </tr>\n",
       "  </thead>\n",
       "  <tbody>\n",
       "    <tr>\n",
       "      <th>0</th>\n",
       "      <td>2.0</td>\n",
       "      <td>Brown Tabby</td>\n",
       "      <td>0.80</td>\n",
       "      <td>7.78</td>\n",
       "      <td>13</td>\n",
       "      <td>9</td>\n",
       "      <td>0.0</td>\n",
       "      <td>1</td>\n",
       "      <td>73</td>\n",
       "    </tr>\n",
       "    <tr>\n",
       "      <th>1</th>\n",
       "      <td>1.0</td>\n",
       "      <td>White</td>\n",
       "      <td>0.72</td>\n",
       "      <td>14.19</td>\n",
       "      <td>13</td>\n",
       "      <td>9</td>\n",
       "      <td>0.0</td>\n",
       "      <td>2</td>\n",
       "      <td>1862</td>\n",
       "    </tr>\n",
       "    <tr>\n",
       "      <th>2</th>\n",
       "      <td>NaN</td>\n",
       "      <td>Brown</td>\n",
       "      <td>0.15</td>\n",
       "      <td>40.90</td>\n",
       "      <td>15</td>\n",
       "      <td>4</td>\n",
       "      <td>2.0</td>\n",
       "      <td>4</td>\n",
       "      <td>752</td>\n",
       "    </tr>\n",
       "    <tr>\n",
       "      <th>3</th>\n",
       "      <td>1.0</td>\n",
       "      <td>White</td>\n",
       "      <td>0.62</td>\n",
       "      <td>17.82</td>\n",
       "      <td>0</td>\n",
       "      <td>1</td>\n",
       "      <td>0.0</td>\n",
       "      <td>2</td>\n",
       "      <td>755</td>\n",
       "    </tr>\n",
       "    <tr>\n",
       "      <th>4</th>\n",
       "      <td>2.0</td>\n",
       "      <td>Black</td>\n",
       "      <td>0.50</td>\n",
       "      <td>11.06</td>\n",
       "      <td>18</td>\n",
       "      <td>4</td>\n",
       "      <td>0.0</td>\n",
       "      <td>1</td>\n",
       "      <td>52</td>\n",
       "    </tr>\n",
       "  </tbody>\n",
       "</table>\n",
       "</div>"
      ],
      "text/plain": [
       "   condition   color_type  length(m)  height(cm)  X1  X2  breed_category  \\\n",
       "0        2.0  Brown Tabby       0.80        7.78  13   9             0.0   \n",
       "1        1.0        White       0.72       14.19  13   9             0.0   \n",
       "2        NaN        Brown       0.15       40.90  15   4             2.0   \n",
       "3        1.0        White       0.62       17.82   0   1             0.0   \n",
       "4        2.0        Black       0.50       11.06  18   4             0.0   \n",
       "\n",
       "   pet_category  days  \n",
       "0             1    73  \n",
       "1             2  1862  \n",
       "2             4   752  \n",
       "3             2   755  \n",
       "4             1    52  "
      ]
     },
     "execution_count": 52,
     "metadata": {},
     "output_type": "execute_result"
    }
   ],
   "source": [
    "def replace_category(cols):\n",
    "    category = cols[0]\n",
    "    if category in rare:\n",
    "        return 'Rare'\n",
    "    elif category in average:\n",
    "        return 'Average'\n",
    "    else:\n",
    "        return category\n",
    "    \n",
    "data['color_type'] = data[['color_type']].apply(replace_category, axis=1)\n",
    "data.head()"
   ]
  },
  {
   "cell_type": "code",
   "execution_count": 53,
   "metadata": {},
   "outputs": [
    {
     "data": {
      "text/plain": [
       "Text(0.5, 1.0, 'Color Type Counts')"
      ]
     },
     "execution_count": 53,
     "metadata": {},
     "output_type": "execute_result"
    },
    {
     "data": {
      "image/png": "[encoded data removed]",
      "text/plain": [
       "<Figure size 1080x1080 with 1 Axes>"
      ]
     },
     "metadata": {
      "needs_background": "light"
     },
     "output_type": "display_data"
    }
   ],
   "source": [
    "plt.figure(figsize=(15, 15))\n",
    "sns.countplot(data.color_type)\n",
    "plt.title('Color Type Counts')"
   ]
  },
  {
   "cell_type": "markdown",
   "metadata": {},
   "source": [
    "### Encode Categorical Feature\n",
    "1. Label Encoding (used for nominal categories)\n",
    "2. One Hot Encoding (used for ordinal categories)\n",
    "3. Target Encoding (problem of overfitting)"
   ]
  },
  {
   "cell_type": "code",
   "execution_count": 54,
   "metadata": {},
   "outputs": [],
   "source": [
    "label_encoder = LabelEncoder()\n",
    "data['color_type'] = label_encoder.fit_transform(data['color_type'])"
   ]
  },
  {
   "cell_type": "code",
   "execution_count": 55,
   "metadata": {},
   "outputs": [],
   "source": [
    "test_data['days'] = test_data[['issue_date', 'listing_date']].apply(difference, axis=1)\n",
    "test_data.drop(['issue_date', 'listing_date'], axis=1, inplace=True)"
   ]
  },
  {
   "cell_type": "code",
   "execution_count": 56,
   "metadata": {},
   "outputs": [
    {
     "data": {
      "text/html": [
       "<div>\n",
       "<style scoped>\n",
       "    .dataframe tbody tr th:only-of-type {\n",
       "        vertical-align: middle;\n",
       "    }\n",
       "\n",
       "    .dataframe tbody tr th {\n",
       "        vertical-align: top;\n",
       "    }\n",
       "\n",
       "    .dataframe thead th {\n",
       "        text-align: right;\n",
       "    }\n",
       "</style>\n",
       "<table border=\"1\" class=\"dataframe\">\n",
       "  <thead>\n",
       "    <tr style=\"text-align: right;\">\n",
       "      <th></th>\n",
       "      <th>condition</th>\n",
       "      <th>color_type</th>\n",
       "      <th>length(m)</th>\n",
       "      <th>height(cm)</th>\n",
       "      <th>X1</th>\n",
       "      <th>X2</th>\n",
       "      <th>days</th>\n",
       "    </tr>\n",
       "  </thead>\n",
       "  <tbody>\n",
       "    <tr>\n",
       "      <th>0</th>\n",
       "      <td>0.0</td>\n",
       "      <td>Black</td>\n",
       "      <td>0.87</td>\n",
       "      <td>42.73</td>\n",
       "      <td>0</td>\n",
       "      <td>7</td>\n",
       "      <td>4404</td>\n",
       "    </tr>\n",
       "    <tr>\n",
       "      <th>1</th>\n",
       "      <td>1.0</td>\n",
       "      <td>Orange Tabby</td>\n",
       "      <td>0.06</td>\n",
       "      <td>6.71</td>\n",
       "      <td>0</td>\n",
       "      <td>1</td>\n",
       "      <td>174</td>\n",
       "    </tr>\n",
       "    <tr>\n",
       "      <th>2</th>\n",
       "      <td>1.0</td>\n",
       "      <td>Black</td>\n",
       "      <td>0.24</td>\n",
       "      <td>41.21</td>\n",
       "      <td>0</td>\n",
       "      <td>7</td>\n",
       "      <td>1999</td>\n",
       "    </tr>\n",
       "    <tr>\n",
       "      <th>3</th>\n",
       "      <td>1.0</td>\n",
       "      <td>Black</td>\n",
       "      <td>0.29</td>\n",
       "      <td>8.46</td>\n",
       "      <td>7</td>\n",
       "      <td>1</td>\n",
       "      <td>1148</td>\n",
       "    </tr>\n",
       "    <tr>\n",
       "      <th>4</th>\n",
       "      <td>1.0</td>\n",
       "      <td>Brown</td>\n",
       "      <td>0.71</td>\n",
       "      <td>30.92</td>\n",
       "      <td>0</td>\n",
       "      <td>7</td>\n",
       "      <td>463</td>\n",
       "    </tr>\n",
       "  </tbody>\n",
       "</table>\n",
       "</div>"
      ],
      "text/plain": [
       "   condition    color_type  length(m)  height(cm)  X1  X2  days\n",
       "0        0.0         Black       0.87       42.73   0   7  4404\n",
       "1        1.0  Orange Tabby       0.06        6.71   0   1   174\n",
       "2        1.0         Black       0.24       41.21   0   7  1999\n",
       "3        1.0         Black       0.29        8.46   7   1  1148\n",
       "4        1.0         Brown       0.71       30.92   0   7   463"
      ]
     },
     "execution_count": 56,
     "metadata": {},
     "output_type": "execute_result"
    }
   ],
   "source": [
    "test_data['color_type'] = test_data[['color_type']].apply(replace_category, axis=1)\n",
    "test_data.head()"
   ]
  },
  {
   "cell_type": "code",
   "execution_count": 57,
   "metadata": {},
   "outputs": [],
   "source": [
    "test_data['color_type'] = label_encoder.fit_transform(test_data['color_type'])"
   ]
  },
  {
   "cell_type": "markdown",
   "metadata": {},
   "source": [
    "### Handle Missing Values\n",
    "1. Drop null values\n",
    "2. Impute them with mean, median, or mode.\n",
    "3. Train a model to predict null values.\n",
    "4. Get some relationship of the feature with null value with that of the target value.\n",
    "\n",
    "Tried out both 3 and 4 but 4 worked out to be the best."
   ]
  },
  {
   "cell_type": "code",
   "execution_count": 58,
   "metadata": {},
   "outputs": [
    {
     "data": {
      "text/plain": [
       "condition         1477\n",
       "color_type           0\n",
       "length(m)            0\n",
       "height(cm)           0\n",
       "X1                   0\n",
       "X2                   0\n",
       "breed_category       0\n",
       "pet_category         0\n",
       "days                 0\n",
       "dtype: int64"
      ]
     },
     "execution_count": 58,
     "metadata": {},
     "output_type": "execute_result"
    }
   ],
   "source": [
    "data.isnull().sum()"
   ]
  },
  {
   "cell_type": "code",
   "execution_count": 59,
   "metadata": {},
   "outputs": [
    {
     "data": {
      "text/plain": [
       "condition     619\n",
       "color_type      0\n",
       "length(m)       0\n",
       "height(cm)      0\n",
       "X1              0\n",
       "X2              0\n",
       "days            0\n",
       "dtype: int64"
      ]
     },
     "execution_count": 59,
     "metadata": {},
     "output_type": "execute_result"
    }
   ],
   "source": [
    "test_data.isnull().sum()"
   ]
  },
  {
   "cell_type": "code",
   "execution_count": 65,
   "metadata": {},
   "outputs": [
    {
     "data": {
      "text/plain": [
       "<matplotlib.axes._subplots.AxesSubplot at 0x2741a6d4e48>"
      ]
     },
     "execution_count": 65,
     "metadata": {},
     "output_type": "execute_result"
    },
    {
     "data": {
      "image/png": "[encoded data removed]",
      "text/plain": [
       "<Figure size 432x288 with 1 Axes>"
      ]
     },
     "metadata": {
      "needs_background": "light"
     },
     "output_type": "display_data"
    }
   ],
   "source": [
    "bool_data = data.isnull()\n",
    "\n",
    "sns.countplot(data[bool_data['condition'] == True].breed_category)"
   ]
  },
  {
   "cell_type": "code",
   "execution_count": 66,
   "metadata": {},
   "outputs": [
    {
     "data": {
      "text/plain": [
       "<matplotlib.axes._subplots.AxesSubplot at 0x2741a718128>"
      ]
     },
     "execution_count": 66,
     "metadata": {},
     "output_type": "execute_result"
    },
    {
     "data": {
      "image/png": "[encoded data removed]",
      "text/plain": [
       "<Figure size 432x288 with 1 Axes>"
      ]
     },
     "metadata": {
      "needs_background": "light"
     },
     "output_type": "display_data"
    }
   ],
   "source": [
    "sns.countplot(data[bool_data['condition'] == True].pet_category)"
   ]
  },
  {
   "cell_type": "markdown",
   "metadata": {},
   "source": [
    "All the null values have the breed_category as 2. Hence treating them as a seperate category in condition feature makes sense. That is if its of breed_category 2 then its condition is unknown let it be another category 3."
   ]
  },
  {
   "cell_type": "code",
   "execution_count": 67,
   "metadata": {},
   "outputs": [],
   "source": [
    "data.fillna(3, inplace=True)\n",
    "test_data.fillna(3, inplace=True)"
   ]
  },
  {
   "cell_type": "code",
   "execution_count": 68,
   "metadata": {},
   "outputs": [
    {
     "data": {
      "text/html": [
       "<div>\n",
       "<style scoped>\n",
       "    .dataframe tbody tr th:only-of-type {\n",
       "        vertical-align: middle;\n",
       "    }\n",
       "\n",
       "    .dataframe tbody tr th {\n",
       "        vertical-align: top;\n",
       "    }\n",
       "\n",
       "    .dataframe thead th {\n",
       "        text-align: right;\n",
       "    }\n",
       "</style>\n",
       "<table border=\"1\" class=\"dataframe\">\n",
       "  <thead>\n",
       "    <tr style=\"text-align: right;\">\n",
       "      <th></th>\n",
       "      <th>condition</th>\n",
       "      <th>color_type</th>\n",
       "      <th>length(m)</th>\n",
       "      <th>height(cm)</th>\n",
       "      <th>X1</th>\n",
       "      <th>X2</th>\n",
       "      <th>breed_category</th>\n",
       "      <th>pet_category</th>\n",
       "      <th>days</th>\n",
       "    </tr>\n",
       "  </thead>\n",
       "  <tbody>\n",
       "    <tr>\n",
       "      <th>0</th>\n",
       "      <td>2.0</td>\n",
       "      <td>6</td>\n",
       "      <td>0.80</td>\n",
       "      <td>7.78</td>\n",
       "      <td>13</td>\n",
       "      <td>9</td>\n",
       "      <td>0.0</td>\n",
       "      <td>1</td>\n",
       "      <td>73</td>\n",
       "    </tr>\n",
       "    <tr>\n",
       "      <th>1</th>\n",
       "      <td>1.0</td>\n",
       "      <td>13</td>\n",
       "      <td>0.72</td>\n",
       "      <td>14.19</td>\n",
       "      <td>13</td>\n",
       "      <td>9</td>\n",
       "      <td>0.0</td>\n",
       "      <td>2</td>\n",
       "      <td>1862</td>\n",
       "    </tr>\n",
       "    <tr>\n",
       "      <th>2</th>\n",
       "      <td>3.0</td>\n",
       "      <td>4</td>\n",
       "      <td>0.15</td>\n",
       "      <td>40.90</td>\n",
       "      <td>15</td>\n",
       "      <td>4</td>\n",
       "      <td>2.0</td>\n",
       "      <td>4</td>\n",
       "      <td>752</td>\n",
       "    </tr>\n",
       "    <tr>\n",
       "      <th>3</th>\n",
       "      <td>1.0</td>\n",
       "      <td>13</td>\n",
       "      <td>0.62</td>\n",
       "      <td>17.82</td>\n",
       "      <td>0</td>\n",
       "      <td>1</td>\n",
       "      <td>0.0</td>\n",
       "      <td>2</td>\n",
       "      <td>755</td>\n",
       "    </tr>\n",
       "    <tr>\n",
       "      <th>4</th>\n",
       "      <td>2.0</td>\n",
       "      <td>1</td>\n",
       "      <td>0.50</td>\n",
       "      <td>11.06</td>\n",
       "      <td>18</td>\n",
       "      <td>4</td>\n",
       "      <td>0.0</td>\n",
       "      <td>1</td>\n",
       "      <td>52</td>\n",
       "    </tr>\n",
       "  </tbody>\n",
       "</table>\n",
       "</div>"
      ],
      "text/plain": [
       "   condition  color_type  length(m)  height(cm)  X1  X2  breed_category  \\\n",
       "0        2.0           6       0.80        7.78  13   9             0.0   \n",
       "1        1.0          13       0.72       14.19  13   9             0.0   \n",
       "2        3.0           4       0.15       40.90  15   4             2.0   \n",
       "3        1.0          13       0.62       17.82   0   1             0.0   \n",
       "4        2.0           1       0.50       11.06  18   4             0.0   \n",
       "\n",
       "   pet_category  days  \n",
       "0             1    73  \n",
       "1             2  1862  \n",
       "2             4   752  \n",
       "3             2   755  \n",
       "4             1    52  "
      ]
     },
     "execution_count": 68,
     "metadata": {},
     "output_type": "execute_result"
    }
   ],
   "source": [
    "data.head()"
   ]
  },
  {
   "cell_type": "code",
   "execution_count": 69,
   "metadata": {},
   "outputs": [],
   "source": [
    "def change_value(cols):\n",
    "    value = cols[0]\n",
    "    if value == 4:\n",
    "        return value - 1\n",
    "    else:\n",
    "        return value\n",
    "    \n",
    "data['pet_category'] = data[['pet_category']].apply(change_value, axis=1)"
   ]
  },
  {
   "cell_type": "code",
   "execution_count": 70,
   "metadata": {},
   "outputs": [
    {
     "data": {
      "text/html": [
       "<div>\n",
       "<style scoped>\n",
       "    .dataframe tbody tr th:only-of-type {\n",
       "        vertical-align: middle;\n",
       "    }\n",
       "\n",
       "    .dataframe tbody tr th {\n",
       "        vertical-align: top;\n",
       "    }\n",
       "\n",
       "    .dataframe thead th {\n",
       "        text-align: right;\n",
       "    }\n",
       "</style>\n",
       "<table border=\"1\" class=\"dataframe\">\n",
       "  <thead>\n",
       "    <tr style=\"text-align: right;\">\n",
       "      <th></th>\n",
       "      <th>condition</th>\n",
       "      <th>color_type</th>\n",
       "      <th>length(m)</th>\n",
       "      <th>height(cm)</th>\n",
       "      <th>X1</th>\n",
       "      <th>X2</th>\n",
       "      <th>breed_category</th>\n",
       "      <th>pet_category</th>\n",
       "      <th>days</th>\n",
       "    </tr>\n",
       "  </thead>\n",
       "  <tbody>\n",
       "    <tr>\n",
       "      <th>0</th>\n",
       "      <td>2.0</td>\n",
       "      <td>6</td>\n",
       "      <td>0.80</td>\n",
       "      <td>7.78</td>\n",
       "      <td>13</td>\n",
       "      <td>9</td>\n",
       "      <td>0.0</td>\n",
       "      <td>1</td>\n",
       "      <td>73</td>\n",
       "    </tr>\n",
       "    <tr>\n",
       "      <th>1</th>\n",
       "      <td>1.0</td>\n",
       "      <td>13</td>\n",
       "      <td>0.72</td>\n",
       "      <td>14.19</td>\n",
       "      <td>13</td>\n",
       "      <td>9</td>\n",
       "      <td>0.0</td>\n",
       "      <td>2</td>\n",
       "      <td>1862</td>\n",
       "    </tr>\n",
       "    <tr>\n",
       "      <th>2</th>\n",
       "      <td>3.0</td>\n",
       "      <td>4</td>\n",
       "      <td>0.15</td>\n",
       "      <td>40.90</td>\n",
       "      <td>15</td>\n",
       "      <td>4</td>\n",
       "      <td>2.0</td>\n",
       "      <td>3</td>\n",
       "      <td>752</td>\n",
       "    </tr>\n",
       "    <tr>\n",
       "      <th>3</th>\n",
       "      <td>1.0</td>\n",
       "      <td>13</td>\n",
       "      <td>0.62</td>\n",
       "      <td>17.82</td>\n",
       "      <td>0</td>\n",
       "      <td>1</td>\n",
       "      <td>0.0</td>\n",
       "      <td>2</td>\n",
       "      <td>755</td>\n",
       "    </tr>\n",
       "    <tr>\n",
       "      <th>4</th>\n",
       "      <td>2.0</td>\n",
       "      <td>1</td>\n",
       "      <td>0.50</td>\n",
       "      <td>11.06</td>\n",
       "      <td>18</td>\n",
       "      <td>4</td>\n",
       "      <td>0.0</td>\n",
       "      <td>1</td>\n",
       "      <td>52</td>\n",
       "    </tr>\n",
       "  </tbody>\n",
       "</table>\n",
       "</div>"
      ],
      "text/plain": [
       "   condition  color_type  length(m)  height(cm)  X1  X2  breed_category  \\\n",
       "0        2.0           6       0.80        7.78  13   9             0.0   \n",
       "1        1.0          13       0.72       14.19  13   9             0.0   \n",
       "2        3.0           4       0.15       40.90  15   4             2.0   \n",
       "3        1.0          13       0.62       17.82   0   1             0.0   \n",
       "4        2.0           1       0.50       11.06  18   4             0.0   \n",
       "\n",
       "   pet_category  days  \n",
       "0             1    73  \n",
       "1             2  1862  \n",
       "2             3   752  \n",
       "3             2   755  \n",
       "4             1    52  "
      ]
     },
     "execution_count": 70,
     "metadata": {},
     "output_type": "execute_result"
    }
   ],
   "source": [
    "data.head()"
   ]
  },
  {
   "cell_type": "markdown",
   "metadata": {},
   "source": [
    "## Feature Importance\n",
    "1. correlation matrix\n",
    "2. ppscore\n",
    "3. extra tree classifier or regressor"
   ]
  },
  {
   "cell_type": "code",
   "execution_count": 71,
   "metadata": {},
   "outputs": [
    {
     "name": "stderr",
     "output_type": "stream",
     "text": [
      "C:\\Users\\HP\\Anaconda3\\lib\\site-packages\\sklearn\\model_selection\\_split.py:672: UserWarning: The least populated class in y has only 2 members, which is less than n_splits=4.\n",
      "  % (min_groups, self.n_splits)), UserWarning)\n",
      "C:\\Users\\HP\\Anaconda3\\lib\\site-packages\\sklearn\\model_selection\\_split.py:672: UserWarning: The least populated class in y has only 2 members, which is less than n_splits=4.\n",
      "  % (min_groups, self.n_splits)), UserWarning)\n",
      "C:\\Users\\HP\\Anaconda3\\lib\\site-packages\\sklearn\\model_selection\\_split.py:672: UserWarning: The least populated class in y has only 2 members, which is less than n_splits=4.\n",
      "  % (min_groups, self.n_splits)), UserWarning)\n",
      "C:\\Users\\HP\\Anaconda3\\lib\\site-packages\\sklearn\\model_selection\\_split.py:672: UserWarning: The least populated class in y has only 2 members, which is less than n_splits=4.\n",
      "  % (min_groups, self.n_splits)), UserWarning)\n",
      "C:\\Users\\HP\\Anaconda3\\lib\\site-packages\\sklearn\\model_selection\\_split.py:672: UserWarning: The least populated class in y has only 2 members, which is less than n_splits=4.\n",
      "  % (min_groups, self.n_splits)), UserWarning)\n",
      "C:\\Users\\HP\\Anaconda3\\lib\\site-packages\\sklearn\\model_selection\\_split.py:672: UserWarning: The least populated class in y has only 2 members, which is less than n_splits=4.\n",
      "  % (min_groups, self.n_splits)), UserWarning)\n",
      "C:\\Users\\HP\\Anaconda3\\lib\\site-packages\\sklearn\\model_selection\\_split.py:672: UserWarning: The least populated class in y has only 2 members, which is less than n_splits=4.\n",
      "  % (min_groups, self.n_splits)), UserWarning)\n",
      "C:\\Users\\HP\\Anaconda3\\lib\\site-packages\\sklearn\\model_selection\\_split.py:672: UserWarning: The least populated class in y has only 2 members, which is less than n_splits=4.\n",
      "  % (min_groups, self.n_splits)), UserWarning)\n",
      "C:\\Users\\HP\\Anaconda3\\lib\\site-packages\\sklearn\\model_selection\\_split.py:672: UserWarning: The least populated class in y has only 1 members, which is less than n_splits=4.\n",
      "  % (min_groups, self.n_splits)), UserWarning)\n",
      "C:\\Users\\HP\\Anaconda3\\lib\\site-packages\\sklearn\\model_selection\\_split.py:672: UserWarning: The least populated class in y has only 1 members, which is less than n_splits=4.\n",
      "  % (min_groups, self.n_splits)), UserWarning)\n",
      "C:\\Users\\HP\\Anaconda3\\lib\\site-packages\\sklearn\\model_selection\\_split.py:672: UserWarning: The least populated class in y has only 1 members, which is less than n_splits=4.\n",
      "  % (min_groups, self.n_splits)), UserWarning)\n",
      "C:\\Users\\HP\\Anaconda3\\lib\\site-packages\\sklearn\\model_selection\\_split.py:672: UserWarning: The least populated class in y has only 1 members, which is less than n_splits=4.\n",
      "  % (min_groups, self.n_splits)), UserWarning)\n",
      "C:\\Users\\HP\\Anaconda3\\lib\\site-packages\\sklearn\\model_selection\\_split.py:672: UserWarning: The least populated class in y has only 1 members, which is less than n_splits=4.\n",
      "  % (min_groups, self.n_splits)), UserWarning)\n",
      "C:\\Users\\HP\\Anaconda3\\lib\\site-packages\\sklearn\\model_selection\\_split.py:672: UserWarning: The least populated class in y has only 1 members, which is less than n_splits=4.\n",
      "  % (min_groups, self.n_splits)), UserWarning)\n",
      "C:\\Users\\HP\\Anaconda3\\lib\\site-packages\\sklearn\\model_selection\\_split.py:672: UserWarning: The least populated class in y has only 1 members, which is less than n_splits=4.\n",
      "  % (min_groups, self.n_splits)), UserWarning)\n",
      "C:\\Users\\HP\\Anaconda3\\lib\\site-packages\\sklearn\\model_selection\\_split.py:672: UserWarning: The least populated class in y has only 1 members, which is less than n_splits=4.\n",
      "  % (min_groups, self.n_splits)), UserWarning)\n"
     ]
    },
    {
     "data": {
      "text/plain": [
       "<matplotlib.axes._subplots.AxesSubplot at 0x2741a70f0f0>"
      ]
     },
     "execution_count": 71,
     "metadata": {},
     "output_type": "execute_result"
    },
    {
     "data": {
      "image/png": "[encoded data removed]",
      "text/plain": [
       "<Figure size 432x288 with 2 Axes>"
      ]
     },
     "metadata": {
      "needs_background": "light"
     },
     "output_type": "display_data"
    }
   ],
   "source": [
    "import ppscore #how is it calculated?\n",
    "sns.heatmap(ppscore.matrix(data), cmap='RdYlGn', annot=True)"
   ]
  },
  {
   "cell_type": "code",
   "execution_count": 72,
   "metadata": {},
   "outputs": [
    {
     "name": "stderr",
     "output_type": "stream",
     "text": [
      "C:\\Users\\HP\\Anaconda3\\lib\\site-packages\\ipykernel_launcher.py:6: DataConversionWarning: A column-vector y was passed when a 1d array was expected. Please change the shape of y to (n_samples,), for example using ravel().\n",
      "  \n"
     ]
    },
    {
     "name": "stdout",
     "output_type": "stream",
     "text": [
      "[0.70681645 0.03828588 0.05658776 0.05959965 0.02147341 0.01757137\n",
      " 0.03769072 0.06197476]\n"
     ]
    },
    {
     "data": {
      "image/png": "[encoded data removed]",
      "text/plain": [
       "<Figure size 432x288 with 1 Axes>"
      ]
     },
     "metadata": {
      "needs_background": "light"
     },
     "output_type": "display_data"
    }
   ],
   "source": [
    "from sklearn.ensemble import ExtraTreesClassifier\n",
    "\n",
    "model_fi = ExtraTreesClassifier()\n",
    "labels = pd.DataFrame(data.breed_category, columns=['breed_category'])\n",
    "fi_train = data.drop('breed_category', axis=1)\n",
    "model_fi.fit(fi_train, labels)\n",
    "\n",
    "print(model_fi.feature_importances_)\n",
    "\n",
    "feat_importances = pd.Series(model_fi.feature_importances_, index=fi_train.columns)\n",
    "feat_importances.nlargest(22).plot(kind='barh')\n",
    "plt.show()"
   ]
  },
  {
   "cell_type": "code",
   "execution_count": 73,
   "metadata": {},
   "outputs": [
    {
     "name": "stderr",
     "output_type": "stream",
     "text": [
      "C:\\Users\\HP\\Anaconda3\\lib\\site-packages\\ipykernel_launcher.py:4: DataConversionWarning: A column-vector y was passed when a 1d array was expected. Please change the shape of y to (n_samples,), for example using ravel().\n",
      "  after removing the cwd from sys.path.\n"
     ]
    },
    {
     "name": "stdout",
     "output_type": "stream",
     "text": [
      "[0.05019618 0.2512765  0.1211506  0.13057999 0.11879418 0.07177463\n",
      " 0.04421451 0.21201341]\n"
     ]
    },
    {
     "data": {
      "image/png": "[encoded data removed]",
      "text/plain": [
       "<Figure size 432x288 with 1 Axes>"
      ]
     },
     "metadata": {
      "needs_background": "light"
     },
     "output_type": "display_data"
    }
   ],
   "source": [
    "model_fi2 = ExtraTreesClassifier()\n",
    "labels2 = pd.DataFrame(data.pet_category, columns=['pet_category'])\n",
    "fi_train2 = data.drop('pet_category', axis=1)\n",
    "model_fi2.fit(fi_train2, labels2)\n",
    "\n",
    "print(model_fi2.feature_importances_)\n",
    "\n",
    "feat_importances = pd.Series(model_fi2.feature_importances_, index=fi_train2.columns)\n",
    "feat_importances.nlargest(22).plot(kind='barh')\n",
    "plt.show()"
   ]
  },
  {
   "cell_type": "markdown",
   "metadata": {},
   "source": [
    "## Remove Outliers"
   ]
  },
  {
   "cell_type": "code",
   "execution_count": 74,
   "metadata": {},
   "outputs": [
    {
     "name": "stdout",
     "output_type": "stream",
     "text": [
      "0.0    9000\n",
      "1.0    8357\n",
      "2.0    1477\n",
      "Name: breed_category, dtype: int64\n"
     ]
    },
    {
     "data": {
      "text/plain": [
       "<matplotlib.axes._subplots.AxesSubplot at 0x2741a8a8208>"
      ]
     },
     "execution_count": 74,
     "metadata": {},
     "output_type": "execute_result"
    },
    {
     "data": {
      "image/png": "[encoded data removed]",
      "text/plain": [
       "<Figure size 432x288 with 1 Axes>"
      ]
     },
     "metadata": {
      "needs_background": "light"
     },
     "output_type": "display_data"
    }
   ],
   "source": [
    "print(data.breed_category.value_counts())\n",
    "sns.countplot(data.breed_category)"
   ]
  },
  {
   "cell_type": "code",
   "execution_count": 75,
   "metadata": {},
   "outputs": [
    {
     "name": "stdout",
     "output_type": "stream",
     "text": [
      "2    10621\n",
      "1     7184\n",
      "3      941\n",
      "0       88\n",
      "Name: pet_category, dtype: int64\n"
     ]
    },
    {
     "data": {
      "text/plain": [
       "<matplotlib.axes._subplots.AxesSubplot at 0x2741a8b3908>"
      ]
     },
     "execution_count": 75,
     "metadata": {},
     "output_type": "execute_result"
    },
    {
     "data": {
      "image/png": "[encoded data removed]",
      "text/plain": [
       "<Figure size 432x288 with 1 Axes>"
      ]
     },
     "metadata": {
      "needs_background": "light"
     },
     "output_type": "display_data"
    }
   ],
   "source": [
    "print(data.pet_category.value_counts())\n",
    "sns.countplot(data.pet_category)"
   ]
  },
  {
   "cell_type": "code",
   "execution_count": 76,
   "metadata": {},
   "outputs": [
    {
     "data": {
      "text/html": [
       "<div>\n",
       "<style scoped>\n",
       "    .dataframe tbody tr th:only-of-type {\n",
       "        vertical-align: middle;\n",
       "    }\n",
       "\n",
       "    .dataframe tbody tr th {\n",
       "        vertical-align: top;\n",
       "    }\n",
       "\n",
       "    .dataframe thead th {\n",
       "        text-align: right;\n",
       "    }\n",
       "</style>\n",
       "<table border=\"1\" class=\"dataframe\">\n",
       "  <thead>\n",
       "    <tr style=\"text-align: right;\">\n",
       "      <th></th>\n",
       "      <th>condition</th>\n",
       "      <th>color_type</th>\n",
       "      <th>length(m)</th>\n",
       "      <th>height(cm)</th>\n",
       "      <th>X1</th>\n",
       "      <th>X2</th>\n",
       "      <th>breed_category</th>\n",
       "      <th>days</th>\n",
       "    </tr>\n",
       "  </thead>\n",
       "  <tbody>\n",
       "    <tr>\n",
       "      <th>0</th>\n",
       "      <td>2.0</td>\n",
       "      <td>6</td>\n",
       "      <td>0.80</td>\n",
       "      <td>7.78</td>\n",
       "      <td>13</td>\n",
       "      <td>9</td>\n",
       "      <td>0.0</td>\n",
       "      <td>73</td>\n",
       "    </tr>\n",
       "    <tr>\n",
       "      <th>1</th>\n",
       "      <td>1.0</td>\n",
       "      <td>13</td>\n",
       "      <td>0.72</td>\n",
       "      <td>14.19</td>\n",
       "      <td>13</td>\n",
       "      <td>9</td>\n",
       "      <td>0.0</td>\n",
       "      <td>1862</td>\n",
       "    </tr>\n",
       "    <tr>\n",
       "      <th>2</th>\n",
       "      <td>3.0</td>\n",
       "      <td>4</td>\n",
       "      <td>0.15</td>\n",
       "      <td>40.90</td>\n",
       "      <td>15</td>\n",
       "      <td>4</td>\n",
       "      <td>2.0</td>\n",
       "      <td>752</td>\n",
       "    </tr>\n",
       "    <tr>\n",
       "      <th>3</th>\n",
       "      <td>1.0</td>\n",
       "      <td>13</td>\n",
       "      <td>0.62</td>\n",
       "      <td>17.82</td>\n",
       "      <td>0</td>\n",
       "      <td>1</td>\n",
       "      <td>0.0</td>\n",
       "      <td>755</td>\n",
       "    </tr>\n",
       "    <tr>\n",
       "      <th>4</th>\n",
       "      <td>2.0</td>\n",
       "      <td>1</td>\n",
       "      <td>0.50</td>\n",
       "      <td>11.06</td>\n",
       "      <td>18</td>\n",
       "      <td>4</td>\n",
       "      <td>0.0</td>\n",
       "      <td>52</td>\n",
       "    </tr>\n",
       "  </tbody>\n",
       "</table>\n",
       "</div>"
      ],
      "text/plain": [
       "   condition  color_type  length(m)  height(cm)  X1  X2  breed_category  days\n",
       "0        2.0           6       0.80        7.78  13   9             0.0    73\n",
       "1        1.0          13       0.72       14.19  13   9             0.0  1862\n",
       "2        3.0           4       0.15       40.90  15   4             2.0   752\n",
       "3        1.0          13       0.62       17.82   0   1             0.0   755\n",
       "4        2.0           1       0.50       11.06  18   4             0.0    52"
      ]
     },
     "execution_count": 76,
     "metadata": {},
     "output_type": "execute_result"
    }
   ],
   "source": [
    "data_breed = data.drop('pet_category', axis=1)\n",
    "data_breed.head()"
   ]
  },
  {
   "cell_type": "code",
   "execution_count": 77,
   "metadata": {},
   "outputs": [
    {
     "data": {
      "text/html": [
       "<div>\n",
       "<style scoped>\n",
       "    .dataframe tbody tr th:only-of-type {\n",
       "        vertical-align: middle;\n",
       "    }\n",
       "\n",
       "    .dataframe tbody tr th {\n",
       "        vertical-align: top;\n",
       "    }\n",
       "\n",
       "    .dataframe thead th {\n",
       "        text-align: right;\n",
       "    }\n",
       "</style>\n",
       "<table border=\"1\" class=\"dataframe\">\n",
       "  <thead>\n",
       "    <tr style=\"text-align: right;\">\n",
       "      <th></th>\n",
       "      <th>condition</th>\n",
       "      <th>color_type</th>\n",
       "      <th>length(m)</th>\n",
       "      <th>height(cm)</th>\n",
       "      <th>X1</th>\n",
       "      <th>X2</th>\n",
       "      <th>pet_category</th>\n",
       "      <th>days</th>\n",
       "    </tr>\n",
       "  </thead>\n",
       "  <tbody>\n",
       "    <tr>\n",
       "      <th>0</th>\n",
       "      <td>2.0</td>\n",
       "      <td>6</td>\n",
       "      <td>0.80</td>\n",
       "      <td>7.78</td>\n",
       "      <td>13</td>\n",
       "      <td>9</td>\n",
       "      <td>1</td>\n",
       "      <td>73</td>\n",
       "    </tr>\n",
       "    <tr>\n",
       "      <th>1</th>\n",
       "      <td>1.0</td>\n",
       "      <td>13</td>\n",
       "      <td>0.72</td>\n",
       "      <td>14.19</td>\n",
       "      <td>13</td>\n",
       "      <td>9</td>\n",
       "      <td>2</td>\n",
       "      <td>1862</td>\n",
       "    </tr>\n",
       "    <tr>\n",
       "      <th>2</th>\n",
       "      <td>3.0</td>\n",
       "      <td>4</td>\n",
       "      <td>0.15</td>\n",
       "      <td>40.90</td>\n",
       "      <td>15</td>\n",
       "      <td>4</td>\n",
       "      <td>3</td>\n",
       "      <td>752</td>\n",
       "    </tr>\n",
       "    <tr>\n",
       "      <th>3</th>\n",
       "      <td>1.0</td>\n",
       "      <td>13</td>\n",
       "      <td>0.62</td>\n",
       "      <td>17.82</td>\n",
       "      <td>0</td>\n",
       "      <td>1</td>\n",
       "      <td>2</td>\n",
       "      <td>755</td>\n",
       "    </tr>\n",
       "    <tr>\n",
       "      <th>4</th>\n",
       "      <td>2.0</td>\n",
       "      <td>1</td>\n",
       "      <td>0.50</td>\n",
       "      <td>11.06</td>\n",
       "      <td>18</td>\n",
       "      <td>4</td>\n",
       "      <td>1</td>\n",
       "      <td>52</td>\n",
       "    </tr>\n",
       "  </tbody>\n",
       "</table>\n",
       "</div>"
      ],
      "text/plain": [
       "   condition  color_type  length(m)  height(cm)  X1  X2  pet_category  days\n",
       "0        2.0           6       0.80        7.78  13   9             1    73\n",
       "1        1.0          13       0.72       14.19  13   9             2  1862\n",
       "2        3.0           4       0.15       40.90  15   4             3   752\n",
       "3        1.0          13       0.62       17.82   0   1             2   755\n",
       "4        2.0           1       0.50       11.06  18   4             1    52"
      ]
     },
     "execution_count": 77,
     "metadata": {},
     "output_type": "execute_result"
    }
   ],
   "source": [
    "data_pet = data.drop('breed_category', axis=1)\n",
    "data_pet.head()"
   ]
  },
  {
   "cell_type": "code",
   "execution_count": 78,
   "metadata": {},
   "outputs": [
    {
     "data": {
      "text/plain": [
       "<matplotlib.axes._subplots.AxesSubplot at 0x27407000128>"
      ]
     },
     "execution_count": 78,
     "metadata": {},
     "output_type": "execute_result"
    },
    {
     "data": {
      "image/png": "[encoded data removed]",
      "text/plain": [
       "<Figure size 432x288 with 1 Axes>"
      ]
     },
     "metadata": {
      "needs_background": "light"
     },
     "output_type": "display_data"
    }
   ],
   "source": [
    "sns.boxplot(data.breed_category, data.X1)"
   ]
  },
  {
   "cell_type": "code",
   "execution_count": 79,
   "metadata": {},
   "outputs": [
    {
     "data": {
      "text/plain": [
       "<matplotlib.axes._subplots.AxesSubplot at 0x27407082908>"
      ]
     },
     "execution_count": 79,
     "metadata": {},
     "output_type": "execute_result"
    },
    {
     "data": {
      "image/png": "[encoded data removed]",
      "text/plain": [
       "<Figure size 1080x1080 with 1 Axes>"
      ]
     },
     "metadata": {
      "needs_background": "light"
     },
     "output_type": "display_data"
    }
   ],
   "source": [
    "plt.figure(figsize=(15, 15))\n",
    "sns.kdeplot(data_breed[data_breed['breed_category'] == 0].X1, shade=True, label='bc = 0')\n",
    "sns.kdeplot(data_breed[data_breed['breed_category'] == 1].X1, shade=True, label='bc = 1')\n",
    "sns.kdeplot(data_breed[data_breed['breed_category'] == 2].X1, shade=True, label='bc = 2')"
   ]
  },
  {
   "cell_type": "code",
   "execution_count": 80,
   "metadata": {},
   "outputs": [
    {
     "data": {
      "text/plain": [
       "<matplotlib.axes._subplots.AxesSubplot at 0x27407082128>"
      ]
     },
     "execution_count": 80,
     "metadata": {},
     "output_type": "execute_result"
    },
    {
     "data": {
      "image/png": "[encoded data removed]",
      "text/plain": [
       "<Figure size 432x288 with 1 Axes>"
      ]
     },
     "metadata": {
      "needs_background": "light"
     },
     "output_type": "display_data"
    }
   ],
   "source": [
    "sns.boxplot(data_breed.breed_category, data_breed.X2)"
   ]
  },
  {
   "cell_type": "code",
   "execution_count": 81,
   "metadata": {},
   "outputs": [
    {
     "data": {
      "text/plain": [
       "<matplotlib.axes._subplots.AxesSubplot at 0x27412cbbef0>"
      ]
     },
     "execution_count": 81,
     "metadata": {},
     "output_type": "execute_result"
    },
    {
     "data": {
      "image/png": "[encoded data removed]",
      "text/plain": [
       "<Figure size 432x288 with 1 Axes>"
      ]
     },
     "metadata": {
      "needs_background": "light"
     },
     "output_type": "display_data"
    }
   ],
   "source": [
    "sns.boxplot(data_pet.pet_category, data_breed.X1)"
   ]
  },
  {
   "cell_type": "code",
   "execution_count": 82,
   "metadata": {},
   "outputs": [
    {
     "data": {
      "text/plain": [
       "<matplotlib.axes._subplots.AxesSubplot at 0x27412d2c080>"
      ]
     },
     "execution_count": 82,
     "metadata": {},
     "output_type": "execute_result"
    },
    {
     "data": {
      "image/png": "[encoded data removed]",
      "text/plain": [
       "<Figure size 432x288 with 1 Axes>"
      ]
     },
     "metadata": {
      "needs_background": "light"
     },
     "output_type": "display_data"
    }
   ],
   "source": [
    "sns.boxplot(data_pet.pet_category, data_breed.X2)"
   ]
  },
  {
   "cell_type": "code",
   "execution_count": 83,
   "metadata": {},
   "outputs": [
    {
     "name": "stdout",
     "output_type": "stream",
     "text": [
      "144\n"
     ]
    },
    {
     "data": {
      "text/plain": [
       "(18690, 8)"
      ]
     },
     "execution_count": 83,
     "metadata": {},
     "output_type": "execute_result"
    }
   ],
   "source": [
    "index = list(data_pet[(data_pet['X1'] > 13) & (data_pet['pet_category'] == 2)].index)\n",
    "data_pet.drop(index, axis=0, inplace=True)\n",
    "print(len(index))\n",
    "data_pet.shape"
   ]
  },
  {
   "cell_type": "code",
   "execution_count": 84,
   "metadata": {},
   "outputs": [],
   "source": [
    "labels_breed = pd.DataFrame(data_breed.breed_category, columns=['breed_category'])\n",
    "labels_pet = pd.DataFrame(data_pet.pet_category, columns=['pet_category'])\n",
    "data_breed.drop('breed_category', axis=1, inplace=True)\n",
    "data_pet.drop('pet_category', axis=1, inplace=True)"
   ]
  },
  {
   "cell_type": "markdown",
   "metadata": {},
   "source": [
    "## Model Selection"
   ]
  },
  {
   "cell_type": "code",
   "execution_count": 88,
   "metadata": {},
   "outputs": [],
   "source": [
    "def convert_to_float(cols):\n",
    "    return float(cols[0])\n",
    "\n",
    "data_breed['condition'] = data_breed[['condition']].apply(convert_to_float, axis=1)\n",
    "data_breed['color_type'] = data_breed[['color_type']].apply(convert_to_float, axis=1)\n",
    "data_breed['length(m)'] = data_breed[['length(m)']].apply(convert_to_float, axis=1)\n",
    "data_breed['height(cm)'] = data_breed[['height(cm)']].apply(convert_to_float, axis=1)\n",
    "data_breed['X1'] = data_breed[['X1']].apply(convert_to_float, axis=1)\n",
    "data_breed['X2'] = data_breed[['X2']].apply(convert_to_float, axis=1)\n",
    "data_breed['days'] = data_breed[['days']].apply(convert_to_float, axis=1)\n",
    "\n",
    "data_pet['condition'] = data_pet[['condition']].apply(convert_to_float, axis=1)\n",
    "data_pet['color_type'] = data_pet[['color_type']].apply(convert_to_float, axis=1)\n",
    "data_pet['length(m)'] = data_pet[['length(m)']].apply(convert_to_float, axis=1)\n",
    "data_pet['height(cm)'] = data_pet[['height(cm)']].apply(convert_to_float, axis=1)\n",
    "data_pet['X1'] = data_pet[['X1']].apply(convert_to_float, axis=1)\n",
    "data_pet['X2'] = data_pet[['X2']].apply(convert_to_float, axis=1)\n",
    "data_pet['days'] = data_pet[['days']].apply(convert_to_float, axis=1)\n",
    "\n",
    "test_data['condition'] = test_data[['condition']].apply(convert_to_float, axis=1)\n",
    "test_data['color_type'] = test_data[['color_type']].apply(convert_to_float, axis=1)\n",
    "test_data['length(m)'] = test_data[['length(m)']].apply(convert_to_float, axis=1)\n",
    "test_data['height(cm)'] = test_data[['height(cm)']].apply(convert_to_float, axis=1)\n",
    "test_data['X1'] = test_data[['X1']].apply(convert_to_float, axis=1)\n",
    "test_data['X2'] = test_data[['X2']].apply(convert_to_float, axis=1)\n",
    "test_data['days'] = test_data[['days']].apply(convert_to_float, axis=1)"
   ]
  },
  {
   "cell_type": "code",
   "execution_count": 89,
   "metadata": {},
   "outputs": [
    {
     "name": "stdout",
     "output_type": "stream",
     "text": [
      "LGBMClassifier(boosting='goss', learning_rate=0.04, max_bin=50, max_depth=7,\n",
      "               min_data_in_leaf=15, n_estimators=275, num_leaves=40)\n"
     ]
    },
    {
     "data": {
      "image/png": "[encoded data removed]",
      "text/plain": [
       "<Figure size 432x288 with 1 Axes>"
      ]
     },
     "metadata": {
      "needs_background": "light"
     },
     "output_type": "display_data"
    },
    {
     "name": "stdout",
     "output_type": "stream",
     "text": [
      "LGBMClassifier(boosting='dart', learning_rate=0.05, max_bin=185, max_depth=8,\n",
      "               n_estimators=500, reg_lambda=0.5)\n"
     ]
    },
    {
     "data": {
      "image/png": "[encoded data removed]",
      "text/plain": [
       "<Figure size 432x288 with 1 Axes>"
      ]
     },
     "metadata": {
      "needs_background": "light"
     },
     "output_type": "display_data"
    }
   ],
   "source": [
    "from lightgbm import LGBMClassifier\n",
    "import lightgbm as lgb\n",
    "\n",
    "model_breed = LGBMClassifier(\n",
    "    n_estimators=275, \n",
    "    learning_rate=0.04, \n",
    "    max_depth=7, \n",
    "    num_leaves=40,\n",
    "    max_bin=50,\n",
    "    min_data_in_leaf=15,\n",
    "    boosting='goss',\n",
    ")\n",
    "model_breed.fit(data_breed, labels_breed.breed_category.ravel())\n",
    "print(model_breed)\n",
    "lgb.plot_importance(model_breed)\n",
    "plt.show()\n",
    "\n",
    "model_pet = LGBMClassifier(\n",
    "    n_estimators=500, \n",
    "    learning_rate=0.05, \n",
    "    reg_lambda=0.5, \n",
    "    max_depth=8,\n",
    "    max_bin=185,\n",
    "    boosting='dart',\n",
    ")\n",
    "model_pet.fit(data_pet, labels_pet.pet_category.ravel())\n",
    "print(model_pet)\n",
    "lgb.plot_importance(model_pet)\n",
    "plt.show()\n",
    "\n",
    "predict_breed = pd.DataFrame(model_breed.predict(test_data), columns=['breed_category'])\n",
    "predict_pet = pd.DataFrame(model_pet.predict(test_data), columns=['pet_category'])"
   ]
  },
  {
   "cell_type": "code",
   "execution_count": 77,
   "metadata": {},
   "outputs": [],
   "source": [
    "# from catboost import CatBoostClassifier\n",
    "\n",
    "# def convert_to_string(cols):\n",
    "#     return str(cols[0])\n",
    "\n",
    "# data_breed['condition'] = data_breed[['condition']].apply(convert_to_string, axis=1)\n",
    "# data_breed['color_type'] = data_breed[['color_type']].apply(convert_to_string, axis=1)\n",
    "# data_breed['length(m)'] = data_breed[['length(m)']].apply(convert_to_string, axis=1)\n",
    "# data_breed['height(cm)'] = data_breed[['height(cm)']].apply(convert_to_string, axis=1)\n",
    "# data_breed['X1'] = data_breed[['X1']].apply(convert_to_string, axis=1)\n",
    "# data_breed['X2'] = data_breed[['X2']].apply(convert_to_string, axis=1)\n",
    "\n",
    "# data_pet['condition'] = data_pet[['condition']].apply(convert_to_string, axis=1)\n",
    "# data_pet['color_type'] = data_pet[['color_type']].apply(convert_to_string, axis=1)\n",
    "# data_pet['length(m)'] = data_pet[['length(m)']].apply(convert_to_string, axis=1)\n",
    "# data_pet['height(cm)'] = data_pet[['height(cm)']].apply(convert_to_string, axis=1)\n",
    "# data_pet['X1'] = data_pet[['X1']].apply(convert_to_string, axis=1)\n",
    "# data_pet['X2'] = data_pet[['X2']].apply(convert_to_string, axis=1)\n",
    "\n",
    "# test_data['condition'] = test_data[['condition']].apply(convert_to_string, axis=1)\n",
    "# test_data['color_type'] = test_data[['color_type']].apply(convert_to_string, axis=1)\n",
    "# test_data['length(m)'] = test_data[['length(m)']].apply(convert_to_string, axis=1)\n",
    "# test_data['height(cm)'] = test_data[['height(cm)']].apply(convert_to_string, axis=1)\n",
    "# test_data['X1'] = test_data[['X1']].apply(convert_to_string, axis=1)\n",
    "# test_data['X2'] = test_data[['X2']].apply(convert_to_string, axis=1)\n",
    "\n",
    "# model_breed = CatBoostClassifier(iterations=1250, depth=8, learning_rate=0.05)\n",
    "# cat_features = [0, 1, 4, 5]\n",
    "# model_breed.fit(data_breed, labels_breed, cat_features=cat_features, verbose=10)\n",
    "\n",
    "# model_pet = CatBoostClassifier(iterations=1500, depth=10, learning_rate=0.01)\n",
    "# cat_features = [0, 1, 4, 5]\n",
    "# model_pet.fit(data_pet, labels_pet, cat_features=cat_features, verbose=10)\n",
    "\n",
    "# predict_breed = pd.DataFrame(model_breed.predict(test_data), columns=['breed_category'])\n",
    "# predict_pet = pd.DataFrame(model_pet.predict(test_data), columns=['pet_category'])"
   ]
  },
  {
   "cell_type": "code",
   "execution_count": 85,
   "metadata": {},
   "outputs": [],
   "source": [
    "# from sklearn.model_selection import RandomizedSearchCV\n",
    "# from sklearn.ensemble import RandomForestClassifier\n",
    "\n",
    "# params = {\n",
    "#     'criterion' : ['gini'],\n",
    "#     'bootstrap' : [True],\n",
    "#     'n_estimators' : [150, 175, 200, 225],\n",
    "#     'max_features' : [3, 4, 5]\n",
    "# }\n",
    "\n",
    "# #x = data_breed_sam.drop('X2', axis=1)\n",
    "# model_breed = RandomForestClassifier()\n",
    "# rscv_breed = RandomizedSearchCV(model_breed, params, random_state=0, n_iter=5)\n",
    "# search_breed = rscv_breed.fit(data_breed, labels_breed)\n",
    "# print(search_breed.best_params_)\n",
    "\n",
    "# #y = data_pet_sam.drop('condition', axis=1)\n",
    "# model_pet = RandomForestClassifier()\n",
    "# rscv_pet = RandomizedSearchCV(model_pet, params, random_state=0, n_iter=5)\n",
    "# search_pet = rscv_pet.fit(data_pet, labels_pet)\n",
    "# print(search_pet.best_params_)"
   ]
  },
  {
   "cell_type": "code",
   "execution_count": 86,
   "metadata": {},
   "outputs": [],
   "source": [
    "# import xgboost\n",
    "# #n_estimators, max_depth, reg_alpha.\n",
    "# #x = data_breed_sam.drop('color_type', axis=1)\n",
    "# regressor = xgboost.XGBClassifier(\n",
    "#                 n_estimators=1000,\n",
    "#                 n_jobs=-1,\n",
    "#                 gamma=0,\n",
    "#                 eta=0.3,\n",
    "#                 reg_lambda=1,\n",
    "#                 reg_alpha=0.2,\n",
    "#                 max_depth=10,\n",
    "#                 seed=42\n",
    "#             )\n",
    "# regressor.fit(data_breed, labels_breed)\n",
    "# predict_breed = regressor.predict(test_data)\n",
    "\n",
    "# regressor = xgboost.XGBClassifier(\n",
    "#                 n_estimators=1250,\n",
    "#                 n_jobs=-1,\n",
    "#                 gamma=0,\n",
    "#                 eta=0.3,\n",
    "#                 reg_lambda=1,\n",
    "#                 reg_alpha=0,\n",
    "#                 max_depth=12,\n",
    "#                 seed=42\n",
    "#             )\n",
    "# regressor.fit(data_pet, labels_pet)\n",
    "# predict_pet = regressor.predict(test_data)\n",
    "\n",
    "# predict_breed = pd.DataFrame(predict_breed, columns=['breed_category'])\n",
    "# predict_pet = pd.DataFrame(predict_pet, columns=['pet_category'])"
   ]
  },
  {
   "cell_type": "markdown",
   "metadata": {},
   "source": [
    "## Post Processing"
   ]
  },
  {
   "cell_type": "code",
   "execution_count": 90,
   "metadata": {},
   "outputs": [],
   "source": [
    "def replace(cols):\n",
    "    value = cols[0]\n",
    "    if value == 3:\n",
    "        return value + 1\n",
    "    else:\n",
    "        return value\n",
    "    \n",
    "predict_pet['pet_category'] = predict_pet[['pet_category']].apply(replace, axis=1)"
   ]
  },
  {
   "cell_type": "code",
   "execution_count": 92,
   "metadata": {},
   "outputs": [],
   "source": [
    "temp_data = pd.read_csv('Dataset/test.csv')\n",
    "final_csv = pd.concat([temp_data.pet_id, predict_breed, predict_pet], axis=1)\n",
    "final_csv.to_csv('predictions.csv', index=False)"
   ]
  },
  {
   "cell_type": "markdown",
   "metadata": {},
   "source": [
    "# Neural Networks Basics"
   ]
  },
  {
   "cell_type": "code",
   "execution_count": 93,
   "metadata": {},
   "outputs": [],
   "source": [
    "from sklearn.model_selection import train_test_split\n",
    "from sklearn.metrics import classification_report,confusion_matrix\n",
    "from tensorflow.keras.optimizers import Adam\n",
    "from tensorflow.keras.losses import BinaryCrossentropy\n",
    "from tensorflow.keras.models import Sequential\n",
    "from tensorflow.keras.layers import Dense\n",
    "from tensorflow.keras.metrics import Accuracy, Precision, Recall\n",
    "from tensorflow.keras import regularizers"
   ]
  },
  {
   "cell_type": "code",
   "execution_count": 95,
   "metadata": {},
   "outputs": [],
   "source": [
    "X_train_breed, X_val_breed, Y_train_breed, Y_val_breed = train_test_split(data_breed, labels_breed, test_size = 0.2, shuffle=True)"
   ]
  },
  {
   "cell_type": "code",
   "execution_count": 96,
   "metadata": {},
   "outputs": [],
   "source": [
    "Y_train_breed = pd.get_dummies(Y_train_breed.breed_category)\n",
    "Y_val_breed = pd.get_dummies(Y_val_breed.breed_category)"
   ]
  },
  {
   "cell_type": "code",
   "execution_count": 100,
   "metadata": {},
   "outputs": [],
   "source": [
    "model_breed = Sequential([\n",
    "    Dense(128, input_shape = (7,), activation = 'relu', kernel_regularizer=regularizers.l1_l2(l1=1e-5, l2=1e-4)),\n",
    "    Dense(128, activation = 'relu', kernel_regularizer=regularizers.l1_l2(l1=1e-5, l2=1e-4)),\n",
    "    Dense(64, activation = 'relu', kernel_regularizer=regularizers.l1_l2(l1=1e-5, l2=1e-3)),\n",
    "    Dense(64, activation = 'relu', kernel_regularizer=regularizers.l1_l2(l1=1e-5, l2=1e-3)),\n",
    "    Dense(32, activation = 'relu', kernel_regularizer=regularizers.l1_l2(l1=1e-5, l2=1e-3)),\n",
    "    Dense(3, activation = 'softmax')\n",
    "])"
   ]
  },
  {
   "cell_type": "code",
   "execution_count": 101,
   "metadata": {},
   "outputs": [],
   "source": [
    "optimizer = Adam(learning_rate=0.0005, beta_1=0.9, beta_2=0.999, epsilon=1e-07)\n",
    "loss = BinaryCrossentropy()\n",
    "metrics = [Accuracy(), Precision(), Recall()]\n",
    "\n",
    "model_breed.compile(optimizer = optimizer, loss = loss, metrics = metrics)"
   ]
  },
  {
   "cell_type": "code",
   "execution_count": 102,
   "metadata": {},
   "outputs": [
    {
     "name": "stdout",
     "output_type": "stream",
     "text": [
      "Train on 15067 samples, validate on 3767 samples\n",
      "WARNING:tensorflow:From C:\\Users\\HP\\Anaconda3\\lib\\site-packages\\tensorflow\\python\\ops\\math_grad.py:1250: add_dispatch_support.<locals>.wrapper (from tensorflow.python.ops.array_ops) is deprecated and will be removed in a future version.\n",
      "Instructions for updating:\n",
      "Use tf.where in 2.0, which has the same broadcast rule as np.where\n",
      "Epoch 1/70\n",
      "15067/15067 [==============================] - 3s 215us/sample - loss: 1.9710 - accuracy: 0.0594 - precision_1: 0.4326 - recall_1: 0.4147 - val_loss: 0.9656 - val_accuracy: 0.0529 - val_precision_1: 0.4653 - val_recall_1: 0.4462\n",
      "Epoch 2/70\n",
      "15067/15067 [==============================] - 1s 34us/sample - loss: 0.9851 - accuracy: 0.0527 - precision_1: 0.4714 - recall_1: 0.4408 - val_loss: 1.0129 - val_accuracy: 0.0510 - val_precision_1: 0.4499 - val_recall_1: 0.4125\n",
      "Epoch 3/70\n",
      "15067/15067 [==============================] - 0s 32us/sample - loss: 0.9166 - accuracy: 0.0442 - precision_1: 0.4814 - recall_1: 0.4410 - val_loss: 1.1053 - val_accuracy: 0.0404 - val_precision_1: 0.4955 - val_recall_1: 0.4489\n",
      "Epoch 4/70\n",
      "15067/15067 [==============================] - 0s 31us/sample - loss: 0.9133 - accuracy: 0.0353 - precision_1: 0.4979 - recall_1: 0.4400 - val_loss: 0.9265 - val_accuracy: 0.0200 - val_precision_1: 0.4701 - val_recall_1: 0.3939\n",
      "Epoch 5/70\n",
      "15067/15067 [==============================] - 0s 28us/sample - loss: 0.8529 - accuracy: 0.0076 - precision_1: 0.5105 - recall_1: 0.4033 - val_loss: 0.8871 - val_accuracy: 0.0000e+00 - val_precision_1: 0.5010 - val_recall_1: 0.3852\n",
      "Epoch 6/70\n",
      "15067/15067 [==============================] - 0s 31us/sample - loss: 0.6831 - accuracy: 0.0000e+00 - precision_1: 0.5426 - recall_1: 0.3290 - val_loss: 0.6351 - val_accuracy: 0.0000e+00 - val_precision_1: 0.5669 - val_recall_1: 0.3103\n",
      "Epoch 7/70\n",
      "15067/15067 [==============================] - 0s 31us/sample - loss: 0.7103 - accuracy: 0.0000e+00 - precision_1: 0.5441 - recall_1: 0.3717 - val_loss: 0.6559 - val_accuracy: 0.0000e+00 - val_precision_1: 0.5613 - val_recall_1: 0.2952\n",
      "Epoch 8/70\n",
      "15067/15067 [==============================] - 1s 35us/sample - loss: 0.6366 - accuracy: 0.0000e+00 - precision_1: 0.6164 - recall_1: 0.4319 - val_loss: 0.5921 - val_accuracy: 0.0000e+00 - val_precision_1: 0.6485 - val_recall_1: 0.4064\n",
      "Epoch 9/70\n",
      "15067/15067 [==============================] - 1s 34us/sample - loss: 0.6588 - accuracy: 1.1062e-04 - precision_1: 0.6041 - recall_1: 0.4799 - val_loss: 0.7859 - val_accuracy: 0.0000e+00 - val_precision_1: 0.5125 - val_recall_1: 0.4285\n",
      "Epoch 10/70\n",
      "15067/15067 [==============================] - 1s 39us/sample - loss: 0.6786 - accuracy: 0.0000e+00 - precision_1: 0.6237 - recall_1: 0.5097 - val_loss: 0.7781 - val_accuracy: 0.0000e+00 - val_precision_1: 0.6210 - val_recall_1: 0.5224\n",
      "Epoch 11/70\n",
      "15067/15067 [==============================] - 1s 34us/sample - loss: 0.6463 - accuracy: 0.0000e+00 - precision_1: 0.6448 - recall_1: 0.5502 - val_loss: 0.6718 - val_accuracy: 0.0000e+00 - val_precision_1: 0.5965 - val_recall_1: 0.4999\n",
      "Epoch 12/70\n",
      "15067/15067 [==============================] - 0s 31us/sample - loss: 0.6736 - accuracy: 0.0123 - precision_1: 0.6614 - recall_1: 0.6137 - val_loss: 0.6404 - val_accuracy: 0.0014 - val_precision_1: 0.6129 - val_recall_1: 0.5506\n",
      "Epoch 13/70\n",
      "15067/15067 [==============================] - 0s 30us/sample - loss: 0.5278 - accuracy: 4.4247e-05 - precision_1: 0.7543 - recall_1: 0.6750 - val_loss: 0.6086 - val_accuracy: 0.0000e+00 - val_precision_1: 0.6218 - val_recall_1: 0.5591\n",
      "Epoch 14/70\n",
      "15067/15067 [==============================] - 0s 31us/sample - loss: 0.5680 - accuracy: 0.0019 - precision_1: 0.7294 - recall_1: 0.6852 - val_loss: 0.5272 - val_accuracy: 0.0000e+00 - val_precision_1: 0.7611 - val_recall_1: 0.6520\n",
      "Epoch 15/70\n",
      "15067/15067 [==============================] - 0s 30us/sample - loss: 0.5329 - accuracy: 0.0000e+00 - precision_1: 0.7410 - recall_1: 0.6672 - val_loss: 0.4650 - val_accuracy: 0.0000e+00 - val_precision_1: 0.7496 - val_recall_1: 0.6945\n",
      "Epoch 16/70\n",
      "15067/15067 [==============================] - 0s 30us/sample - loss: 0.4712 - accuracy: 4.4247e-05 - precision_1: 0.7746 - recall_1: 0.7289 - val_loss: 0.4833 - val_accuracy: 0.0000e+00 - val_precision_1: 0.8218 - val_recall_1: 0.7675\n",
      "Epoch 17/70\n",
      "15067/15067 [==============================] - 0s 29us/sample - loss: 0.5080 - accuracy: 1.3274e-04 - precision_1: 0.7574 - recall_1: 0.7238 - val_loss: 0.4888 - val_accuracy: 0.0000e+00 - val_precision_1: 0.7399 - val_recall_1: 0.6963\n",
      "Epoch 18/70\n",
      "15067/15067 [==============================] - 0s 30us/sample - loss: 0.4605 - accuracy: 5.5309e-04 - precision_1: 0.7741 - recall_1: 0.7450 - val_loss: 1.4982 - val_accuracy: 0.0175 - val_precision_1: 0.6340 - val_recall_1: 0.6329\n",
      "Epoch 19/70\n",
      "15067/15067 [==============================] - 0s 30us/sample - loss: 0.6117 - accuracy: 0.0034 - precision_1: 0.7540 - recall_1: 0.7086 - val_loss: 0.4251 - val_accuracy: 0.0000e+00 - val_precision_1: 0.8235 - val_recall_1: 0.7717\n",
      "Epoch 20/70\n",
      "15067/15067 [==============================] - 0s 29us/sample - loss: 0.5003 - accuracy: 0.0000e+00 - precision_1: 0.7478 - recall_1: 0.7114 - val_loss: 0.6656 - val_accuracy: 0.0000e+00 - val_precision_1: 0.6378 - val_recall_1: 0.5970\n",
      "Epoch 21/70\n",
      "15067/15067 [==============================] - 0s 31us/sample - loss: 0.4632 - accuracy: 0.0000e+00 - precision_1: 0.7867 - recall_1: 0.7459 - val_loss: 0.3828 - val_accuracy: 0.0000e+00 - val_precision_1: 0.8742 - val_recall_1: 0.8410\n",
      "Epoch 22/70\n",
      "15067/15067 [==============================] - 1s 43us/sample - loss: 0.4142 - accuracy: 0.0000e+00 - precision_1: 0.8039 - recall_1: 0.7747 - val_loss: 0.3927 - val_accuracy: 0.0000e+00 - val_precision_1: 0.7782 - val_recall_1: 0.7544\n",
      "Epoch 23/70\n",
      "15067/15067 [==============================] - 0s 30us/sample - loss: 0.4035 - accuracy: 0.0000e+00 - precision_1: 0.8236 - recall_1: 0.7901 - val_loss: 0.3467 - val_accuracy: 0.0000e+00 - val_precision_1: 0.8787 - val_recall_1: 0.8381\n",
      "Epoch 24/70\n",
      "15067/15067 [==============================] - 0s 30us/sample - loss: 0.3680 - accuracy: 0.0000e+00 - precision_1: 0.8380 - recall_1: 0.8075 - val_loss: 0.3212 - val_accuracy: 0.0000e+00 - val_precision_1: 0.8879 - val_recall_1: 0.8622\n",
      "Epoch 25/70\n",
      "15067/15067 [==============================] - 0s 28us/sample - loss: 0.3972 - accuracy: 0.0000e+00 - precision_1: 0.8001 - recall_1: 0.7733 - val_loss: 0.3268 - val_accuracy: 0.0000e+00 - val_precision_1: 0.8745 - val_recall_1: 0.8601\n",
      "Epoch 26/70\n",
      "15067/15067 [==============================] - 0s 30us/sample - loss: 0.4081 - accuracy: 8.1857e-04 - precision_1: 0.8194 - recall_1: 0.7929 - val_loss: 0.3726 - val_accuracy: 0.0000e+00 - val_precision_1: 0.8662 - val_recall_1: 0.8057\n",
      "Epoch 27/70\n",
      "15067/15067 [==============================] - 0s 28us/sample - loss: 0.3902 - accuracy: 3.9822e-04 - precision_1: 0.8212 - recall_1: 0.7907 - val_loss: 0.3339 - val_accuracy: 7.0790e-04 - val_precision_1: 0.9007 - val_recall_1: 0.8359\n",
      "Epoch 28/70\n",
      "15067/15067 [==============================] - 0s 31us/sample - loss: 0.3986 - accuracy: 0.0027 - precision_1: 0.8169 - recall_1: 0.7911 - val_loss: 0.3646 - val_accuracy: 0.0012 - val_precision_1: 0.8199 - val_recall_1: 0.7977\n",
      "Epoch 29/70\n",
      "15067/15067 [==============================] - 0s 29us/sample - loss: 0.3491 - accuracy: 0.0011 - precision_1: 0.8355 - recall_1: 0.8107 - val_loss: 0.3390 - val_accuracy: 0.0000e+00 - val_precision_1: 0.8250 - val_recall_1: 0.8046\n",
      "Epoch 30/70\n",
      "15067/15067 [==============================] - 0s 30us/sample - loss: 0.5648 - accuracy: 0.0012 - precision_1: 0.6987 - recall_1: 0.6734 - val_loss: 0.5127 - val_accuracy: 0.0000e+00 - val_precision_1: 0.6864 - val_recall_1: 0.6637\n",
      "Epoch 31/70\n",
      "15067/15067 [==============================] - 0s 30us/sample - loss: 0.3981 - accuracy: 0.0000e+00 - precision_1: 0.8114 - recall_1: 0.7895 - val_loss: 0.3679 - val_accuracy: 0.0000e+00 - val_precision_1: 0.8586 - val_recall_1: 0.8301\n",
      "Epoch 32/70\n",
      "15067/15067 [==============================] - 0s 29us/sample - loss: 0.3647 - accuracy: 0.0000e+00 - precision_1: 0.8371 - recall_1: 0.8156 - val_loss: 0.3217 - val_accuracy: 0.0000e+00 - val_precision_1: 0.8861 - val_recall_1: 0.8673\n"
     ]
    },
    {
     "name": "stdout",
     "output_type": "stream",
     "text": [
      "Epoch 33/70\n",
      "15067/15067 [==============================] - 1s 34us/sample - loss: 0.3352 - accuracy: 0.0000e+00 - precision_1: 0.8578 - recall_1: 0.8397 - val_loss: 0.3043 - val_accuracy: 0.0000e+00 - val_precision_1: 0.8869 - val_recall_1: 0.8720\n",
      "Epoch 34/70\n",
      "15067/15067 [==============================] - 1s 40us/sample - loss: 0.3125 - accuracy: 0.0000e+00 - precision_1: 0.8709 - recall_1: 0.8553 - val_loss: 0.2869 - val_accuracy: 0.0000e+00 - val_precision_1: 0.8872 - val_recall_1: 0.8707\n",
      "Epoch 35/70\n",
      "15067/15067 [==============================] - 0s 32us/sample - loss: 0.3043 - accuracy: 0.0000e+00 - precision_1: 0.8644 - recall_1: 0.8487 - val_loss: 0.2786 - val_accuracy: 0.0000e+00 - val_precision_1: 0.8894 - val_recall_1: 0.8643\n",
      "Epoch 36/70\n",
      "15067/15067 [==============================] - 0s 31us/sample - loss: 0.3046 - accuracy: 2.2123e-05 - precision_1: 0.8607 - recall_1: 0.8415 - val_loss: 0.3607 - val_accuracy: 0.0000e+00 - val_precision_1: 0.7946 - val_recall_1: 0.7661\n",
      "Epoch 37/70\n",
      "15067/15067 [==============================] - 0s 27us/sample - loss: 0.4020 - accuracy: 0.0069 - precision_1: 0.8355 - recall_1: 0.8211 - val_loss: 0.6389 - val_accuracy: 0.0483 - val_precision_1: 0.7305 - val_recall_1: 0.7274\n",
      "Epoch 38/70\n",
      "15067/15067 [==============================] - 0s 28us/sample - loss: 0.4527 - accuracy: 0.0147 - precision_1: 0.8075 - recall_1: 0.7844 - val_loss: 0.2798 - val_accuracy: 0.0000e+00 - val_precision_1: 0.8896 - val_recall_1: 0.8601\n",
      "Epoch 39/70\n",
      "15067/15067 [==============================] - 0s 29us/sample - loss: 0.3878 - accuracy: 0.0073 - precision_1: 0.8253 - recall_1: 0.8029 - val_loss: 0.4055 - val_accuracy: 0.0122 - val_precision_1: 0.8405 - val_recall_1: 0.8017\n",
      "Epoch 40/70\n",
      "15067/15067 [==============================] - 0s 28us/sample - loss: 0.3108 - accuracy: 0.0050 - precision_1: 0.8718 - recall_1: 0.8468 - val_loss: 0.7256 - val_accuracy: 0.0000e+00 - val_precision_1: 0.5969 - val_recall_1: 0.5617\n",
      "Epoch 41/70\n",
      "15067/15067 [==============================] - 0s 27us/sample - loss: 0.5059 - accuracy: 8.8494e-04 - precision_1: 0.7328 - recall_1: 0.7152 - val_loss: 0.3435 - val_accuracy: 0.0000e+00 - val_precision_1: 0.8539 - val_recall_1: 0.8468\n",
      "Epoch 42/70\n",
      "15067/15067 [==============================] - 0s 31us/sample - loss: 0.3095 - accuracy: 0.0000e+00 - precision_1: 0.8667 - recall_1: 0.8541 - val_loss: 0.2791 - val_accuracy: 0.0000e+00 - val_precision_1: 0.8890 - val_recall_1: 0.8720\n",
      "Epoch 43/70\n",
      "15067/15067 [==============================] - 0s 32us/sample - loss: 0.3603 - accuracy: 7.7432e-04 - precision_1: 0.8318 - recall_1: 0.8144 - val_loss: 0.3688 - val_accuracy: 0.0074 - val_precision_1: 0.8241 - val_recall_1: 0.8134\n",
      "Epoch 44/70\n",
      "15067/15067 [==============================] - 0s 29us/sample - loss: 0.3194 - accuracy: 5.5309e-04 - precision_1: 0.8447 - recall_1: 0.8250 - val_loss: 0.2669 - val_accuracy: 3.5395e-04 - val_precision_1: 0.8832 - val_recall_1: 0.8670\n",
      "Epoch 45/70\n",
      "15067/15067 [==============================] - 1s 35us/sample - loss: 0.2521 - accuracy: 3.3185e-04 - precision_1: 0.8898 - recall_1: 0.8675 - val_loss: 0.5169 - val_accuracy: 0.0050 - val_precision_1: 0.7940 - val_recall_1: 0.7786\n",
      "Epoch 46/70\n",
      "15067/15067 [==============================] - 1s 38us/sample - loss: 0.3382 - accuracy: 0.0029 - precision_1: 0.8545 - recall_1: 0.8326 - val_loss: 0.2692 - val_accuracy: 0.0000e+00 - val_precision_1: 0.8838 - val_recall_1: 0.8604\n",
      "Epoch 47/70\n",
      "15067/15067 [==============================] - 0s 30us/sample - loss: 0.2619 - accuracy: 9.9555e-04 - precision_1: 0.8790 - recall_1: 0.8589 - val_loss: 0.2981 - val_accuracy: 0.0000e+00 - val_precision_1: 0.8395 - val_recall_1: 0.8097\n",
      "Epoch 48/70\n",
      "15067/15067 [==============================] - 0s 29us/sample - loss: 0.2642 - accuracy: 5.0884e-04 - precision_1: 0.8695 - recall_1: 0.8492 - val_loss: 0.2348 - val_accuracy: 7.0790e-04 - val_precision_1: 0.8946 - val_recall_1: 0.8742\n",
      "Epoch 49/70\n",
      "15067/15067 [==============================] - 0s 31us/sample - loss: 0.4059 - accuracy: 0.0016 - precision_1: 0.7608 - recall_1: 0.7439 - val_loss: 0.3836 - val_accuracy: 0.0053 - val_precision_1: 0.7710 - val_recall_1: 0.7667\n",
      "Epoch 50/70\n",
      "15067/15067 [==============================] - 0s 30us/sample - loss: 0.2827 - accuracy: 4.2034e-04 - precision_1: 0.8708 - recall_1: 0.8497 - val_loss: 0.2293 - val_accuracy: 3.5395e-04 - val_precision_1: 0.8947 - val_recall_1: 0.8659\n",
      "Epoch 51/70\n",
      "15067/15067 [==============================] - 0s 30us/sample - loss: 0.3606 - accuracy: 0.0104 - precision_1: 0.8421 - recall_1: 0.8268 - val_loss: 0.3198 - val_accuracy: 0.0061 - val_precision_1: 0.8864 - val_recall_1: 0.8160\n",
      "Epoch 52/70\n",
      "15067/15067 [==============================] - 0s 30us/sample - loss: 0.2824 - accuracy: 0.0021 - precision_1: 0.8768 - recall_1: 0.8539 - val_loss: 0.3207 - val_accuracy: 6.1941e-04 - val_precision_1: 0.8435 - val_recall_1: 0.8325\n",
      "Epoch 53/70\n",
      "15067/15067 [==============================] - 0s 31us/sample - loss: 0.2640 - accuracy: 0.0014 - precision_1: 0.8765 - recall_1: 0.8572 - val_loss: 0.2289 - val_accuracy: 9.7337e-04 - val_precision_1: 0.9002 - val_recall_1: 0.8760\n",
      "Epoch 54/70\n",
      "15067/15067 [==============================] - 0s 31us/sample - loss: 0.2295 - accuracy: 0.0013 - precision_1: 0.8964 - recall_1: 0.8756 - val_loss: 0.2328 - val_accuracy: 0.0015 - val_precision_1: 0.8946 - val_recall_1: 0.8811\n",
      "Epoch 55/70\n",
      "15067/15067 [==============================] - 0s 30us/sample - loss: 0.2274 - accuracy: 7.7432e-04 - precision_1: 0.8954 - recall_1: 0.8762 - val_loss: 0.2340 - val_accuracy: 1.7698e-04 - val_precision_1: 0.8957 - val_recall_1: 0.8710\n",
      "Epoch 56/70\n",
      "15067/15067 [==============================] - 0s 29us/sample - loss: 0.2610 - accuracy: 3.0973e-04 - precision_1: 0.8751 - recall_1: 0.8564 - val_loss: 0.2181 - val_accuracy: 8.8488e-05 - val_precision_1: 0.8985 - val_recall_1: 0.8763\n",
      "Epoch 57/70\n",
      "15067/15067 [==============================] - 1s 38us/sample - loss: 0.2825 - accuracy: 6.4158e-04 - precision_1: 0.8588 - recall_1: 0.8423 - val_loss: 0.2527 - val_accuracy: 0.0000e+00 - val_precision_1: 0.9015 - val_recall_1: 0.8675\n",
      "Epoch 58/70\n",
      "15067/15067 [==============================] - 0s 31us/sample - loss: 0.2341 - accuracy: 7.0795e-04 - precision_1: 0.8924 - recall_1: 0.8737 - val_loss: 0.2502 - val_accuracy: 0.0000e+00 - val_precision_1: 0.8919 - val_recall_1: 0.8628\n",
      "Epoch 59/70\n",
      "15067/15067 [==============================] - 0s 30us/sample - loss: 0.2761 - accuracy: 4.4247e-04 - precision_1: 0.8610 - recall_1: 0.8450 - val_loss: 0.2390 - val_accuracy: 5.3093e-04 - val_precision_1: 0.8952 - val_recall_1: 0.8776\n",
      "Epoch 60/70\n",
      "15067/15067 [==============================] - 0s 29us/sample - loss: 0.3516 - accuracy: 0.0039 - precision_1: 0.8340 - recall_1: 0.8141 - val_loss: 0.3691 - val_accuracy: 0.0039 - val_precision_1: 0.8140 - val_recall_1: 0.7821\n",
      "Epoch 61/70\n",
      "15067/15067 [==============================] - 0s 30us/sample - loss: 0.2851 - accuracy: 0.0038 - precision_1: 0.8639 - recall_1: 0.8492 - val_loss: 0.2814 - val_accuracy: 0.0019 - val_precision_1: 0.8883 - val_recall_1: 0.8848\n",
      "Epoch 62/70\n",
      "15067/15067 [==============================] - 0s 30us/sample - loss: 0.2762 - accuracy: 0.0019 - precision_1: 0.8596 - recall_1: 0.8414 - val_loss: 0.2310 - val_accuracy: 9.7337e-04 - val_precision_1: 0.8958 - val_recall_1: 0.8813\n",
      "Epoch 63/70\n",
      "15067/15067 [==============================] - 0s 29us/sample - loss: 0.2454 - accuracy: 4.8671e-04 - precision_1: 0.8820 - recall_1: 0.8658 - val_loss: 0.2487 - val_accuracy: 0.0000e+00 - val_precision_1: 0.8940 - val_recall_1: 0.8803\n",
      "Epoch 64/70\n",
      "15067/15067 [==============================] - 0s 30us/sample - loss: 0.2287 - accuracy: 6.6370e-05 - precision_1: 0.8939 - recall_1: 0.8767 - val_loss: 0.2209 - val_accuracy: 0.0000e+00 - val_precision_1: 0.8982 - val_recall_1: 0.8835\n",
      "Epoch 65/70\n",
      "15067/15067 [==============================] - 0s 29us/sample - loss: 0.2142 - accuracy: 6.6370e-05 - precision_1: 0.8974 - recall_1: 0.8805 - val_loss: 0.2116 - val_accuracy: 0.0000e+00 - val_precision_1: 0.9010 - val_recall_1: 0.8797\n",
      "Epoch 66/70\n",
      "15067/15067 [==============================] - 0s 33us/sample - loss: 0.2092 - accuracy: 4.4247e-05 - precision_1: 0.8997 - recall_1: 0.8818 - val_loss: 0.2104 - val_accuracy: 0.0000e+00 - val_precision_1: 0.8994 - val_recall_1: 0.8803\n",
      "Epoch 67/70\n",
      "15067/15067 [==============================] - 0s 32us/sample - loss: 0.2967 - accuracy: 9.2918e-04 - precision_1: 0.8639 - recall_1: 0.8463 - val_loss: 0.2373 - val_accuracy: 0.0000e+00 - val_precision_1: 0.8971 - val_recall_1: 0.8683\n",
      "Epoch 68/70\n",
      "15067/15067 [==============================] - 1s 35us/sample - loss: 0.2600 - accuracy: 1.5486e-04 - precision_1: 0.8724 - recall_1: 0.8525 - val_loss: 0.2722 - val_accuracy: 0.0000e+00 - val_precision_1: 0.8706 - val_recall_1: 0.8413\n",
      "Epoch 69/70\n",
      "15067/15067 [==============================] - 1s 41us/sample - loss: 0.3078 - accuracy: 0.0012 - precision_1: 0.8473 - recall_1: 0.8300 - val_loss: 0.2886 - val_accuracy: 0.0000e+00 - val_precision_1: 0.8662 - val_recall_1: 0.8298\n",
      "Epoch 70/70\n",
      "15067/15067 [==============================] - 1s 34us/sample - loss: 0.2440 - accuracy: 1.5486e-04 - precision_1: 0.8892 - recall_1: 0.8732 - val_loss: 0.2522 - val_accuracy: 0.0000e+00 - val_precision_1: 0.8905 - val_recall_1: 0.8851\n"
     ]
    }
   ],
   "source": [
    "history = model_breed.fit(X_train_breed, Y_train_breed, validation_data=(X_val_breed, Y_val_breed), batch_size = 256, epochs = 70, shuffle = True)"
   ]
  },
  {
   "cell_type": "code",
   "execution_count": 103,
   "metadata": {},
   "outputs": [
    {
     "data": {
      "text/plain": [
       "[<matplotlib.lines.Line2D at 0x274238c4c50>]"
      ]
     },
     "execution_count": 103,
     "metadata": {},
     "output_type": "execute_result"
    },
    {
     "data": {
      "image/png": "[encoded data removed]",
      "text/plain": [
       "<Figure size 432x288 with 1 Axes>"
      ]
     },
     "metadata": {
      "needs_background": "light"
     },
     "output_type": "display_data"
    }
   ],
   "source": [
    "plt.plot(history.history['loss'])\n",
    "plt.plot(history.history['val_loss'])"
   ]
  },
  {
   "cell_type": "code",
   "execution_count": 104,
   "metadata": {},
   "outputs": [],
   "source": [
    "predict_breed = model_breed.predict(test_data)"
   ]
  },
  {
   "cell_type": "code",
   "execution_count": 105,
   "metadata": {},
   "outputs": [
    {
     "data": {
      "text/plain": [
       "array([[8.9217406e-03, 9.9107820e-01, 9.8820458e-25],\n",
       "       [9.5108342e-01, 4.8538346e-02, 3.7817284e-04],\n",
       "       [9.9360621e-01, 6.3937833e-03, 7.6675125e-13],\n",
       "       ...,\n",
       "       [1.4989298e-05, 9.9998498e-01, 3.4165616e-14],\n",
       "       [2.8834458e-02, 3.0550571e-02, 9.4061494e-01],\n",
       "       [1.2186033e-04, 9.9987817e-01, 2.2899024e-10]], dtype=float32)"
      ]
     },
     "execution_count": 105,
     "metadata": {},
     "output_type": "execute_result"
    }
   ],
   "source": [
    "predict_breed"
   ]
  },
  {
   "cell_type": "code",
   "execution_count": 106,
   "metadata": {},
   "outputs": [],
   "source": [
    "pred_class_breed = []\n",
    "for pred in predict_breed:\n",
    "    lis = list(pred)\n",
    "    pred_class_breed.append(lis.index(max(lis)))"
   ]
  },
  {
   "cell_type": "code",
   "execution_count": 107,
   "metadata": {},
   "outputs": [],
   "source": [
    "pred_class_breed = pd.DataFrame(pred_class_breed, columns=['breed_category'])"
   ]
  },
  {
   "cell_type": "code",
   "execution_count": 108,
   "metadata": {},
   "outputs": [
    {
     "data": {
      "text/plain": [
       "0    4766\n",
       "1    2690\n",
       "2     616\n",
       "Name: breed_category, dtype: int64"
      ]
     },
     "execution_count": 108,
     "metadata": {},
     "output_type": "execute_result"
    }
   ],
   "source": [
    "pred_class_breed.breed_category.value_counts()"
   ]
  },
  {
   "cell_type": "code",
   "execution_count": 110,
   "metadata": {},
   "outputs": [],
   "source": [
    "X_train_pet, X_val_pet, Y_train_pet, Y_val_pet = train_test_split(data_pet, labels_pet, test_size = 0.15, shuffle=True)"
   ]
  },
  {
   "cell_type": "code",
   "execution_count": 111,
   "metadata": {},
   "outputs": [],
   "source": [
    "Y_train_pet = pd.get_dummies(Y_train_pet.pet_category)\n",
    "Y_val_pet = pd.get_dummies(Y_val_pet.pet_category)"
   ]
  },
  {
   "cell_type": "code",
   "execution_count": 114,
   "metadata": {},
   "outputs": [],
   "source": [
    "model_pet = Sequential([\n",
    "    Dense(128, input_shape = (7,), activation = 'relu', kernel_regularizer=regularizers.l1_l2(l1=1e-5, l2=1e-4)),\n",
    "    Dense(128, activation = 'relu', kernel_regularizer=regularizers.l1_l2(l1=1e-5, l2=1e-4)),\n",
    "    Dense(64, activation = 'relu', kernel_regularizer=regularizers.l1_l2(l1=1e-5, l2=1e-4)),\n",
    "    Dense(64, activation = 'relu', kernel_regularizer=regularizers.l1_l2(l1=1e-5, l2=1e-4)),\n",
    "    Dense(32, activation = 'relu', kernel_regularizer=regularizers.l1_l2(l1=1e-5, l2=1e-4)),\n",
    "    Dense(4, activation = 'softmax')\n",
    "])"
   ]
  },
  {
   "cell_type": "code",
   "execution_count": 115,
   "metadata": {},
   "outputs": [],
   "source": [
    "optimizer = Adam(learning_rate=0.0005, beta_1=0.9, beta_2=0.999, epsilon=1e-07)\n",
    "loss = BinaryCrossentropy()\n",
    "metrics = [Accuracy(), Precision(), Recall()]\n",
    "\n",
    "model_pet.compile(optimizer = optimizer, loss = loss, metrics = metrics)"
   ]
  },
  {
   "cell_type": "code",
   "execution_count": 116,
   "metadata": {},
   "outputs": [
    {
     "name": "stdout",
     "output_type": "stream",
     "text": [
      "Train on 15886 samples, validate on 2804 samples\n",
      "Epoch 1/125\n",
      "15886/15886 [==============================] - 2s 143us/sample - loss: 1.2645 - accuracy: 0.0681 - precision_3: 0.5729 - recall_3: 0.5201 - val_loss: 0.5099 - val_accuracy: 0.0072 - val_precision_3: 0.5987 - val_recall_3: 0.5810\n",
      "Epoch 2/125\n",
      "15886/15886 [==============================] - 1s 37us/sample - loss: 0.5582 - accuracy: 0.0015 - precision_3: 0.6310 - recall_3: 0.5428 - val_loss: 0.4686 - val_accuracy: 0.0000e+00 - val_precision_3: 0.7011 - val_recall_3: 0.6309\n",
      "Epoch 3/125\n",
      "15886/15886 [==============================] - 1s 40us/sample - loss: 0.5297 - accuracy: 0.0016 - precision_3: 0.6559 - recall_3: 0.5874 - val_loss: 0.4532 - val_accuracy: 0.0000e+00 - val_precision_3: 0.5617 - val_recall_3: 0.4283\n",
      "Epoch 4/125\n",
      "15886/15886 [==============================] - 1s 32us/sample - loss: 0.4982 - accuracy: 0.0016 - precision_3: 0.6798 - recall_3: 0.6046 - val_loss: 0.3869 - val_accuracy: 0.0000e+00 - val_precision_3: 0.7284 - val_recall_3: 0.6188\n",
      "Epoch 5/125\n",
      "15886/15886 [==============================] - 0s 31us/sample - loss: 0.5540 - accuracy: 0.0026 - precision_3: 0.6684 - recall_3: 0.5941 - val_loss: 0.4094 - val_accuracy: 0.0000e+00 - val_precision_3: 0.7552 - val_recall_3: 0.5403\n",
      "Epoch 6/125\n",
      "15886/15886 [==============================] - 1s 32us/sample - loss: 0.4800 - accuracy: 0.0079 - precision_3: 0.6919 - recall_3: 0.6482 - val_loss: 0.3797 - val_accuracy: 0.0000e+00 - val_precision_3: 0.7145 - val_recall_3: 0.5934\n",
      "Epoch 7/125\n",
      "15886/15886 [==============================] - 0s 31us/sample - loss: 0.5454 - accuracy: 0.0214 - precision_3: 0.6600 - recall_3: 0.6253 - val_loss: 1.0504 - val_accuracy: 3.5663e-04 - val_precision_3: 0.3716 - val_recall_3: 0.2978\n",
      "Epoch 8/125\n",
      "15886/15886 [==============================] - 1s 32us/sample - loss: 0.5970 - accuracy: 0.0199 - precision_3: 0.6429 - recall_3: 0.6154 - val_loss: 0.4517 - val_accuracy: 0.0034 - val_precision_3: 0.7076 - val_recall_3: 0.6583\n",
      "Epoch 9/125\n",
      "15886/15886 [==============================] - 0s 31us/sample - loss: 0.4663 - accuracy: 8.9702e-04 - precision_3: 0.6814 - recall_3: 0.6042 - val_loss: 0.4314 - val_accuracy: 0.0014 - val_precision_3: 0.6446 - val_recall_3: 0.6223\n",
      "Epoch 10/125\n",
      "15886/15886 [==============================] - 0s 30us/sample - loss: 0.3917 - accuracy: 2.2032e-04 - precision_3: 0.7107 - recall_3: 0.6206 - val_loss: 0.4886 - val_accuracy: 8.9158e-05 - val_precision_3: 0.7136 - val_recall_3: 0.6487\n",
      "Epoch 11/125\n",
      "15886/15886 [==============================] - 1s 32us/sample - loss: 0.4604 - accuracy: 0.0020 - precision_3: 0.6930 - recall_3: 0.6304 - val_loss: 0.3555 - val_accuracy: 0.0000e+00 - val_precision_3: 0.7204 - val_recall_3: 0.6516\n",
      "Epoch 12/125\n",
      "15886/15886 [==============================] - 0s 30us/sample - loss: 0.3628 - accuracy: 0.0000e+00 - precision_3: 0.7239 - recall_3: 0.6327 - val_loss: 0.3665 - val_accuracy: 0.0000e+00 - val_precision_3: 0.7116 - val_recall_3: 0.5817\n",
      "Epoch 13/125\n",
      "15886/15886 [==============================] - ETA: 0s - loss: 0.4045 - accuracy: 3.3104e-05 - precision_3: 0.7026 - recall_3: 0.622 - 1s 38us/sample - loss: 0.4031 - accuracy: 3.1474e-05 - precision_3: 0.7025 - recall_3: 0.6225 - val_loss: 0.7203 - val_accuracy: 0.0000e+00 - val_precision_3: 0.4740 - val_recall_3: 0.4130\n",
      "Epoch 14/125\n",
      "15886/15886 [==============================] - 1s 35us/sample - loss: 0.5408 - accuracy: 0.0049 - precision_3: 0.6688 - recall_3: 0.6397 - val_loss: 0.3842 - val_accuracy: 0.0000e+00 - val_precision_3: 0.7511 - val_recall_3: 0.6091\n",
      "Epoch 15/125\n",
      "15886/15886 [==============================] - 1s 32us/sample - loss: 0.4124 - accuracy: 4.7211e-05 - precision_3: 0.7048 - recall_3: 0.6223 - val_loss: 0.4674 - val_accuracy: 8.9158e-05 - val_precision_3: 0.7287 - val_recall_3: 0.6476\n",
      "Epoch 16/125\n",
      "15886/15886 [==============================] - 0s 31us/sample - loss: 0.3524 - accuracy: 0.0000e+00 - precision_3: 0.7349 - recall_3: 0.6402 - val_loss: 0.3952 - val_accuracy: 0.0000e+00 - val_precision_3: 0.7311 - val_recall_3: 0.6505\n",
      "Epoch 17/125\n",
      "15886/15886 [==============================] - 0s 29us/sample - loss: 0.4042 - accuracy: 0.0000e+00 - precision_3: 0.7034 - recall_3: 0.6334 - val_loss: 0.3443 - val_accuracy: 0.0000e+00 - val_precision_3: 0.7230 - val_recall_3: 0.6673\n",
      "Epoch 18/125\n",
      "15886/15886 [==============================] - 0s 29us/sample - loss: 0.3601 - accuracy: 0.0000e+00 - precision_3: 0.7323 - recall_3: 0.6306 - val_loss: 0.3359 - val_accuracy: 0.0000e+00 - val_precision_3: 0.7419 - val_recall_3: 0.6491\n",
      "Epoch 19/125\n",
      "15886/15886 [==============================] - 0s 30us/sample - loss: 0.3570 - accuracy: 0.0000e+00 - precision_3: 0.7288 - recall_3: 0.6466 - val_loss: 0.3671 - val_accuracy: 0.0000e+00 - val_precision_3: 0.7410 - val_recall_3: 0.6662\n",
      "Epoch 20/125\n",
      "15886/15886 [==============================] - 0s 29us/sample - loss: 0.3614 - accuracy: 0.0000e+00 - precision_3: 0.7300 - recall_3: 0.6569 - val_loss: 0.3405 - val_accuracy: 0.0000e+00 - val_precision_3: 0.7426 - val_recall_3: 0.6801\n",
      "Epoch 21/125\n",
      "15886/15886 [==============================] - 0s 30us/sample - loss: 0.3378 - accuracy: 0.0000e+00 - precision_3: 0.7430 - recall_3: 0.6735 - val_loss: 0.4053 - val_accuracy: 0.0000e+00 - val_precision_3: 0.6341 - val_recall_3: 0.5870\n",
      "Epoch 22/125\n",
      "15886/15886 [==============================] - 0s 29us/sample - loss: 0.3457 - accuracy: 0.0000e+00 - precision_3: 0.7341 - recall_3: 0.6741 - val_loss: 0.4215 - val_accuracy: 0.0000e+00 - val_precision_3: 0.6212 - val_recall_3: 0.5802\n",
      "Epoch 23/125\n",
      "15886/15886 [==============================] - 0s 30us/sample - loss: 0.3474 - accuracy: 0.0000e+00 - precision_3: 0.7350 - recall_3: 0.6825 - val_loss: 0.4914 - val_accuracy: 0.0000e+00 - val_precision_3: 0.5901 - val_recall_3: 0.5339\n",
      "Epoch 24/125\n",
      "15886/15886 [==============================] - 1s 38us/sample - loss: 0.3676 - accuracy: 3.1474e-05 - precision_3: 0.7266 - recall_3: 0.6776 - val_loss: 0.3226 - val_accuracy: 0.0000e+00 - val_precision_3: 0.7491 - val_recall_3: 0.6997\n",
      "Epoch 25/125\n",
      "15886/15886 [==============================] - 1s 36us/sample - loss: 0.3267 - accuracy: 0.0000e+00 - precision_3: 0.7493 - recall_3: 0.7025 - val_loss: 0.3549 - val_accuracy: 0.0000e+00 - val_precision_3: 0.7471 - val_recall_3: 0.7101\n",
      "Epoch 26/125\n",
      "15886/15886 [==============================] - 0s 29us/sample - loss: 0.3247 - accuracy: 0.0000e+00 - precision_3: 0.7486 - recall_3: 0.7071 - val_loss: 0.3479 - val_accuracy: 0.0000e+00 - val_precision_3: 0.7457 - val_recall_3: 0.7122\n",
      "Epoch 27/125\n",
      "15886/15886 [==============================] - 0s 29us/sample - loss: 0.3222 - accuracy: 0.0000e+00 - precision_3: 0.7497 - recall_3: 0.7130 - val_loss: 0.3959 - val_accuracy: 0.0000e+00 - val_precision_3: 0.7406 - val_recall_3: 0.7129\n",
      "Epoch 28/125\n",
      "15886/15886 [==============================] - 0s 30us/sample - loss: 0.3376 - accuracy: 0.0000e+00 - precision_3: 0.7421 - recall_3: 0.7055 - val_loss: 0.3284 - val_accuracy: 0.0000e+00 - val_precision_3: 0.7515 - val_recall_3: 0.7215\n",
      "Epoch 29/125\n",
      "15886/15886 [==============================] - 0s 29us/sample - loss: 0.3178 - accuracy: 0.0000e+00 - precision_3: 0.7497 - recall_3: 0.7173 - val_loss: 0.3795 - val_accuracy: 0.0000e+00 - val_precision_3: 0.6710 - val_recall_3: 0.6123\n",
      "Epoch 30/125\n",
      "15886/15886 [==============================] - 0s 29us/sample - loss: 0.3577 - accuracy: 0.0000e+00 - precision_3: 0.7323 - recall_3: 0.6965 - val_loss: 0.4010 - val_accuracy: 0.0000e+00 - val_precision_3: 0.7437 - val_recall_3: 0.7183\n",
      "Epoch 31/125\n",
      "15886/15886 [==============================] - 0s 29us/sample - loss: 0.3264 - accuracy: 0.0000e+00 - precision_3: 0.7441 - recall_3: 0.7113 - val_loss: 0.3517 - val_accuracy: 0.0000e+00 - val_precision_3: 0.7505 - val_recall_3: 0.7240\n",
      "Epoch 32/125\n",
      "15886/15886 [==============================] - 0s 29us/sample - loss: 0.3201 - accuracy: 0.0000e+00 - precision_3: 0.7490 - recall_3: 0.7203 - val_loss: 0.3590 - val_accuracy: 0.0000e+00 - val_precision_3: 0.6855 - val_recall_3: 0.6491\n",
      "Epoch 33/125\n",
      "15886/15886 [==============================] - 0s 29us/sample - loss: 0.3303 - accuracy: 0.0000e+00 - precision_3: 0.7457 - recall_3: 0.7135 - val_loss: 0.3347 - val_accuracy: 0.0000e+00 - val_precision_3: 0.7547 - val_recall_3: 0.7318\n"
     ]
    },
    {
     "name": "stdout",
     "output_type": "stream",
     "text": [
      "Epoch 34/125\n",
      "15886/15886 [==============================] - 0s 31us/sample - loss: 0.3325 - accuracy: 0.0000e+00 - precision_3: 0.7424 - recall_3: 0.7138 - val_loss: 0.3270 - val_accuracy: 0.0000e+00 - val_precision_3: 0.7296 - val_recall_3: 0.6755\n",
      "Epoch 35/125\n",
      "15886/15886 [==============================] - 1s 33us/sample - loss: 0.3240 - accuracy: 0.0000e+00 - precision_3: 0.7472 - recall_3: 0.7192 - val_loss: 0.3234 - val_accuracy: 0.0000e+00 - val_precision_3: 0.7585 - val_recall_3: 0.7279\n",
      "Epoch 36/125\n",
      "15886/15886 [==============================] - 1s 40us/sample - loss: 0.3302 - accuracy: 0.0000e+00 - precision_3: 0.7441 - recall_3: 0.7177 - val_loss: 0.3436 - val_accuracy: 0.0000e+00 - val_precision_3: 0.7453 - val_recall_3: 0.7254\n",
      "Epoch 37/125\n",
      "15886/15886 [==============================] - 0s 28us/sample - loss: 0.3068 - accuracy: 0.0000e+00 - precision_3: 0.7576 - recall_3: 0.7333 - val_loss: 0.3097 - val_accuracy: 0.0000e+00 - val_precision_3: 0.7488 - val_recall_3: 0.7347\n",
      "Epoch 38/125\n",
      "15886/15886 [==============================] - 0s 29us/sample - loss: 0.3107 - accuracy: 0.0000e+00 - precision_3: 0.7549 - recall_3: 0.7328 - val_loss: 0.3543 - val_accuracy: 0.0000e+00 - val_precision_3: 0.6825 - val_recall_3: 0.6516\n",
      "Epoch 39/125\n",
      "15886/15886 [==============================] - 1s 32us/sample - loss: 0.3200 - accuracy: 0.0000e+00 - precision_3: 0.7494 - recall_3: 0.7255 - val_loss: 0.3058 - val_accuracy: 0.0000e+00 - val_precision_3: 0.7580 - val_recall_3: 0.7350\n",
      "Epoch 40/125\n",
      "15886/15886 [==============================] - 1s 32us/sample - loss: 0.3161 - accuracy: 0.0000e+00 - precision_3: 0.7527 - recall_3: 0.7267 - val_loss: 0.3051 - val_accuracy: 0.0000e+00 - val_precision_3: 0.7557 - val_recall_3: 0.7347\n",
      "Epoch 41/125\n",
      "15886/15886 [==============================] - 1s 32us/sample - loss: 0.3154 - accuracy: 0.0000e+00 - precision_3: 0.7524 - recall_3: 0.7294 - val_loss: 0.3024 - val_accuracy: 0.0000e+00 - val_precision_3: 0.7586 - val_recall_3: 0.7407\n",
      "Epoch 42/125\n",
      "15886/15886 [==============================] - 1s 32us/sample - loss: 0.3011 - accuracy: 0.0000e+00 - precision_3: 0.7616 - recall_3: 0.7388 - val_loss: 0.3198 - val_accuracy: 0.0000e+00 - val_precision_3: 0.7467 - val_recall_3: 0.7190\n",
      "Epoch 43/125\n",
      "15886/15886 [==============================] - 0s 31us/sample - loss: 0.3089 - accuracy: 0.0000e+00 - precision_3: 0.7525 - recall_3: 0.7302 - val_loss: 0.3012 - val_accuracy: 0.0000e+00 - val_precision_3: 0.7552 - val_recall_3: 0.7393\n",
      "Epoch 44/125\n",
      "15886/15886 [==============================] - 1s 33us/sample - loss: 0.3095 - accuracy: 0.0000e+00 - precision_3: 0.7528 - recall_3: 0.7339 - val_loss: 0.3507 - val_accuracy: 0.0000e+00 - val_precision_3: 0.6874 - val_recall_3: 0.6573\n",
      "Epoch 45/125\n",
      "15886/15886 [==============================] - 1s 32us/sample - loss: 0.3095 - accuracy: 0.0000e+00 - precision_3: 0.7557 - recall_3: 0.7350 - val_loss: 0.3131 - val_accuracy: 0.0000e+00 - val_precision_3: 0.7609 - val_recall_3: 0.7343\n",
      "Epoch 46/125\n",
      "15886/15886 [==============================] - 1s 38us/sample - loss: 0.3097 - accuracy: 0.0000e+00 - precision_3: 0.7554 - recall_3: 0.7334 - val_loss: 0.3224 - val_accuracy: 0.0000e+00 - val_precision_3: 0.7602 - val_recall_3: 0.7350\n",
      "Epoch 47/125\n",
      "15886/15886 [==============================] - 1s 36us/sample - loss: 0.3068 - accuracy: 0.0000e+00 - precision_3: 0.7562 - recall_3: 0.7353 - val_loss: 0.3060 - val_accuracy: 0.0000e+00 - val_precision_3: 0.7578 - val_recall_3: 0.7422\n",
      "Epoch 48/125\n",
      "15886/15886 [==============================] - 0s 31us/sample - loss: 0.3307 - accuracy: 0.0000e+00 - precision_3: 0.7431 - recall_3: 0.7200 - val_loss: 0.3707 - val_accuracy: 0.0000e+00 - val_precision_3: 0.6673 - val_recall_3: 0.6287\n",
      "Epoch 49/125\n",
      "15886/15886 [==============================] - 0s 31us/sample - loss: 0.3114 - accuracy: 0.0000e+00 - precision_3: 0.7538 - recall_3: 0.7322 - val_loss: 0.3086 - val_accuracy: 0.0000e+00 - val_precision_3: 0.7604 - val_recall_3: 0.7368\n",
      "Epoch 50/125\n",
      "15886/15886 [==============================] - 1s 32us/sample - loss: 0.3009 - accuracy: 0.0000e+00 - precision_3: 0.7594 - recall_3: 0.7390 - val_loss: 0.3422 - val_accuracy: 0.0000e+00 - val_precision_3: 0.7624 - val_recall_3: 0.7461\n",
      "Epoch 51/125\n",
      "15886/15886 [==============================] - 0s 31us/sample - loss: 0.3293 - accuracy: 0.0000e+00 - precision_3: 0.7472 - recall_3: 0.7258 - val_loss: 0.4652 - val_accuracy: 0.0000e+00 - val_precision_3: 0.6309 - val_recall_3: 0.5870\n",
      "Epoch 52/125\n",
      "15886/15886 [==============================] - 0s 31us/sample - loss: 0.3138 - accuracy: 0.0000e+00 - precision_3: 0.7543 - recall_3: 0.7289 - val_loss: 0.3017 - val_accuracy: 0.0000e+00 - val_precision_3: 0.7592 - val_recall_3: 0.7500\n",
      "Epoch 53/125\n",
      "15886/15886 [==============================] - 0s 30us/sample - loss: 0.3050 - accuracy: 0.0000e+00 - precision_3: 0.7576 - recall_3: 0.7378 - val_loss: 0.3030 - val_accuracy: 0.0000e+00 - val_precision_3: 0.7671 - val_recall_3: 0.7564\n",
      "Epoch 54/125\n",
      "15886/15886 [==============================] - 0s 30us/sample - loss: 0.2990 - accuracy: 0.0000e+00 - precision_3: 0.7635 - recall_3: 0.7450 - val_loss: 0.3122 - val_accuracy: 0.0000e+00 - val_precision_3: 0.7691 - val_recall_3: 0.7568\n",
      "Epoch 55/125\n",
      "15886/15886 [==============================] - 0s 31us/sample - loss: 0.3009 - accuracy: 0.0000e+00 - precision_3: 0.7619 - recall_3: 0.7430 - val_loss: 0.3605 - val_accuracy: 0.0000e+00 - val_precision_3: 0.6702 - val_recall_3: 0.6487\n",
      "Epoch 56/125\n",
      "15886/15886 [==============================] - 0s 30us/sample - loss: 0.3116 - accuracy: 0.0000e+00 - precision_3: 0.7575 - recall_3: 0.7340 - val_loss: 0.3004 - val_accuracy: 0.0000e+00 - val_precision_3: 0.7705 - val_recall_3: 0.7436\n",
      "Epoch 57/125\n",
      "15886/15886 [==============================] - 1s 52us/sample - loss: 0.2977 - accuracy: 0.0000e+00 - precision_3: 0.7654 - recall_3: 0.7451 - val_loss: 0.3126 - val_accuracy: 0.0000e+00 - val_precision_3: 0.7701 - val_recall_3: 0.7586\n",
      "Epoch 58/125\n",
      "15886/15886 [==============================] - 1s 33us/sample - loss: 0.2932 - accuracy: 0.0000e+00 - precision_3: 0.7697 - recall_3: 0.7523 - val_loss: 0.4658 - val_accuracy: 0.0000e+00 - val_precision_3: 0.5916 - val_recall_3: 0.5852\n",
      "Epoch 59/125\n",
      "15886/15886 [==============================] - 0s 31us/sample - loss: 0.3216 - accuracy: 1.4163e-04 - precision_3: 0.7461 - recall_3: 0.7251 - val_loss: 0.3090 - val_accuracy: 0.0000e+00 - val_precision_3: 0.7499 - val_recall_3: 0.7197\n",
      "Epoch 60/125\n",
      "15886/15886 [==============================] - 0s 30us/sample - loss: 0.3033 - accuracy: 0.0000e+00 - precision_3: 0.7603 - recall_3: 0.7412 - val_loss: 0.3013 - val_accuracy: 0.0000e+00 - val_precision_3: 0.7666 - val_recall_3: 0.7532\n",
      "Epoch 61/125\n",
      "15886/15886 [==============================] - 0s 31us/sample - loss: 0.2982 - accuracy: 0.0000e+00 - precision_3: 0.7632 - recall_3: 0.7446 - val_loss: 0.3363 - val_accuracy: 0.0000e+00 - val_precision_3: 0.7049 - val_recall_3: 0.6933\n",
      "Epoch 62/125\n",
      "15886/15886 [==============================] - 0s 30us/sample - loss: 0.3012 - accuracy: 0.0000e+00 - precision_3: 0.7632 - recall_3: 0.7447 - val_loss: 0.3157 - val_accuracy: 0.0000e+00 - val_precision_3: 0.7646 - val_recall_3: 0.7539\n",
      "Epoch 63/125\n",
      "15886/15886 [==============================] - 0s 31us/sample - loss: 0.2979 - accuracy: 0.0000e+00 - precision_3: 0.7641 - recall_3: 0.7441 - val_loss: 0.2937 - val_accuracy: 0.0000e+00 - val_precision_3: 0.7680 - val_recall_3: 0.7496\n",
      "Epoch 64/125\n",
      "15886/15886 [==============================] - 0s 30us/sample - loss: 0.2916 - accuracy: 0.0000e+00 - precision_3: 0.7708 - recall_3: 0.7509 - val_loss: 0.3296 - val_accuracy: 0.0000e+00 - val_precision_3: 0.7668 - val_recall_3: 0.7553\n",
      "Epoch 65/125\n",
      "15886/15886 [==============================] - 0s 31us/sample - loss: 0.3024 - accuracy: 0.0000e+00 - precision_3: 0.7613 - recall_3: 0.7418 - val_loss: 0.3491 - val_accuracy: 0.0000e+00 - val_precision_3: 0.6946 - val_recall_3: 0.6830\n",
      "Epoch 66/125\n",
      "15886/15886 [==============================] - 0s 30us/sample - loss: 0.3068 - accuracy: 0.0000e+00 - precision_3: 0.7573 - recall_3: 0.7382 - val_loss: 0.2916 - val_accuracy: 0.0000e+00 - val_precision_3: 0.7675 - val_recall_3: 0.7511\n"
     ]
    },
    {
     "name": "stdout",
     "output_type": "stream",
     "text": [
      "Epoch 67/125\n",
      "15886/15886 [==============================] - 1s 33us/sample - loss: 0.3056 - accuracy: 0.0000e+00 - precision_3: 0.7597 - recall_3: 0.7357 - val_loss: 0.3558 - val_accuracy: 0.0000e+00 - val_precision_3: 0.7643 - val_recall_3: 0.7504\n",
      "Epoch 68/125\n",
      "15886/15886 [==============================] - 1s 41us/sample - loss: 0.3064 - accuracy: 0.0000e+00 - precision_3: 0.7618 - recall_3: 0.7426 - val_loss: 0.3595 - val_accuracy: 0.0000e+00 - val_precision_3: 0.6793 - val_recall_3: 0.6737\n",
      "Epoch 69/125\n",
      "15886/15886 [==============================] - 1s 33us/sample - loss: 0.3050 - accuracy: 0.0000e+00 - precision_3: 0.7555 - recall_3: 0.7389 - val_loss: 0.2985 - val_accuracy: 0.0000e+00 - val_precision_3: 0.7557 - val_recall_3: 0.7457\n",
      "Epoch 70/125\n",
      "15886/15886 [==============================] - 1s 34us/sample - loss: 0.3013 - accuracy: 0.0000e+00 - precision_3: 0.7615 - recall_3: 0.7446 - val_loss: 0.3470 - val_accuracy: 0.0000e+00 - val_precision_3: 0.7646 - val_recall_3: 0.7539\n",
      "Epoch 71/125\n",
      "15886/15886 [==============================] - 1s 33us/sample - loss: 0.2968 - accuracy: 0.0000e+00 - precision_3: 0.7651 - recall_3: 0.7492 - val_loss: 0.3077 - val_accuracy: 0.0000e+00 - val_precision_3: 0.7717 - val_recall_3: 0.7582\n",
      "Epoch 72/125\n",
      "15886/15886 [==============================] - 1s 33us/sample - loss: 0.2951 - accuracy: 0.0000e+00 - precision_3: 0.7663 - recall_3: 0.7516 - val_loss: 0.2913 - val_accuracy: 0.0000e+00 - val_precision_3: 0.7721 - val_recall_3: 0.7539\n",
      "Epoch 73/125\n",
      "15886/15886 [==============================] - 1s 33us/sample - loss: 0.2923 - accuracy: 0.0000e+00 - precision_3: 0.7693 - recall_3: 0.7512 - val_loss: 0.3150 - val_accuracy: 0.0000e+00 - val_precision_3: 0.7575 - val_recall_3: 0.7443\n",
      "Epoch 74/125\n",
      "15886/15886 [==============================] - 1s 32us/sample - loss: 0.3046 - accuracy: 0.0000e+00 - precision_3: 0.7579 - recall_3: 0.7412 - val_loss: 0.2935 - val_accuracy: 0.0000e+00 - val_precision_3: 0.7666 - val_recall_3: 0.7496\n",
      "Epoch 75/125\n",
      "15886/15886 [==============================] - 0s 28us/sample - loss: 0.2993 - accuracy: 0.0000e+00 - precision_3: 0.7619 - recall_3: 0.7439 - val_loss: 0.3026 - val_accuracy: 0.0000e+00 - val_precision_3: 0.7706 - val_recall_3: 0.7343\n",
      "Epoch 76/125\n",
      "15886/15886 [==============================] - 0s 30us/sample - loss: 0.2931 - accuracy: 0.0000e+00 - precision_3: 0.7684 - recall_3: 0.7511 - val_loss: 0.2978 - val_accuracy: 0.0000e+00 - val_precision_3: 0.7565 - val_recall_3: 0.7500\n",
      "Epoch 77/125\n",
      "15886/15886 [==============================] - 1s 32us/sample - loss: 0.2951 - accuracy: 0.0000e+00 - precision_3: 0.7618 - recall_3: 0.7470 - val_loss: 0.2999 - val_accuracy: 0.0000e+00 - val_precision_3: 0.7692 - val_recall_3: 0.7357\n",
      "Epoch 78/125\n",
      "15886/15886 [==============================] - 1s 40us/sample - loss: 0.2903 - accuracy: 0.0000e+00 - precision_3: 0.7682 - recall_3: 0.7529 - val_loss: 0.2985 - val_accuracy: 0.0000e+00 - val_precision_3: 0.7544 - val_recall_3: 0.7407\n",
      "Epoch 79/125\n",
      "15886/15886 [==============================] - 1s 35us/sample - loss: 0.3026 - accuracy: 0.0000e+00 - precision_3: 0.7555 - recall_3: 0.7400 - val_loss: 0.3007 - val_accuracy: 0.0000e+00 - val_precision_3: 0.7704 - val_recall_3: 0.7357\n",
      "Epoch 80/125\n",
      "15886/15886 [==============================] - 0s 31us/sample - loss: 0.3001 - accuracy: 0.0000e+00 - precision_3: 0.7624 - recall_3: 0.7447 - val_loss: 0.3148 - val_accuracy: 0.0000e+00 - val_precision_3: 0.7592 - val_recall_3: 0.7489\n",
      "Epoch 81/125\n",
      "15886/15886 [==============================] - 0s 31us/sample - loss: 0.2959 - accuracy: 0.0000e+00 - precision_3: 0.7655 - recall_3: 0.7506 - val_loss: 0.3018 - val_accuracy: 0.0000e+00 - val_precision_3: 0.7650 - val_recall_3: 0.7479\n",
      "Epoch 82/125\n",
      "15886/15886 [==============================] - 1s 32us/sample - loss: 0.3056 - accuracy: 0.0000e+00 - precision_3: 0.7581 - recall_3: 0.7391 - val_loss: 0.2942 - val_accuracy: 0.0000e+00 - val_precision_3: 0.7639 - val_recall_3: 0.7464\n",
      "Epoch 83/125\n",
      "15886/15886 [==============================] - 0s 31us/sample - loss: 0.2901 - accuracy: 0.0000e+00 - precision_3: 0.7693 - recall_3: 0.7546 - val_loss: 0.2913 - val_accuracy: 0.0000e+00 - val_precision_3: 0.7724 - val_recall_3: 0.7636\n",
      "Epoch 84/125\n",
      "15886/15886 [==============================] - 0s 31us/sample - loss: 0.2900 - accuracy: 0.0000e+00 - precision_3: 0.7712 - recall_3: 0.7575 - val_loss: 0.3085 - val_accuracy: 0.0000e+00 - val_precision_3: 0.7308 - val_recall_3: 0.7222\n",
      "Epoch 85/125\n",
      "15886/15886 [==============================] - 1s 32us/sample - loss: 0.2924 - accuracy: 0.0000e+00 - precision_3: 0.7667 - recall_3: 0.7539 - val_loss: 0.2897 - val_accuracy: 0.0000e+00 - val_precision_3: 0.7728 - val_recall_3: 0.7546\n",
      "Epoch 86/125\n",
      "15886/15886 [==============================] - 0s 30us/sample - loss: 0.2876 - accuracy: 0.0000e+00 - precision_3: 0.7704 - recall_3: 0.7560 - val_loss: 0.2925 - val_accuracy: 0.0000e+00 - val_precision_3: 0.7630 - val_recall_3: 0.7486\n",
      "Epoch 87/125\n",
      "15886/15886 [==============================] - 0s 30us/sample - loss: 0.2904 - accuracy: 0.0000e+00 - precision_3: 0.7673 - recall_3: 0.7532 - val_loss: 0.3160 - val_accuracy: 0.0000e+00 - val_precision_3: 0.7273 - val_recall_3: 0.7058\n",
      "Epoch 88/125\n",
      "15886/15886 [==============================] - 0s 31us/sample - loss: 0.2905 - accuracy: 0.0000e+00 - precision_3: 0.7653 - recall_3: 0.7506 - val_loss: 0.3141 - val_accuracy: 0.0000e+00 - val_precision_3: 0.7252 - val_recall_3: 0.7133\n",
      "Epoch 89/125\n",
      "15886/15886 [==============================] - 1s 43us/sample - loss: 0.2944 - accuracy: 0.0000e+00 - precision_3: 0.7667 - recall_3: 0.7521 - val_loss: 0.2898 - val_accuracy: 0.0000e+00 - val_precision_3: 0.7685 - val_recall_3: 0.7589\n",
      "Epoch 90/125\n",
      "15886/15886 [==============================] - 1s 34us/sample - loss: 0.2877 - accuracy: 0.0000e+00 - precision_3: 0.7701 - recall_3: 0.7574 - val_loss: 0.2982 - val_accuracy: 0.0000e+00 - val_precision_3: 0.7732 - val_recall_3: 0.7379\n",
      "Epoch 91/125\n",
      "15886/15886 [==============================] - 0s 31us/sample - loss: 0.2842 - accuracy: 0.0000e+00 - precision_3: 0.7737 - recall_3: 0.7588 - val_loss: 0.2914 - val_accuracy: 0.0000e+00 - val_precision_3: 0.7645 - val_recall_3: 0.7546\n",
      "Epoch 92/125\n",
      "15886/15886 [==============================] - 0s 31us/sample - loss: 0.2821 - accuracy: 0.0000e+00 - precision_3: 0.7752 - recall_3: 0.7630 - val_loss: 0.2927 - val_accuracy: 0.0000e+00 - val_precision_3: 0.7739 - val_recall_3: 0.7593\n",
      "Epoch 93/125\n",
      "15886/15886 [==============================] - 0s 30us/sample - loss: 0.2850 - accuracy: 0.0000e+00 - precision_3: 0.7715 - recall_3: 0.7602 - val_loss: 0.2924 - val_accuracy: 0.0000e+00 - val_precision_3: 0.7660 - val_recall_3: 0.7507\n",
      "Epoch 94/125\n",
      "15886/15886 [==============================] - 0s 31us/sample - loss: 0.2866 - accuracy: 0.0000e+00 - precision_3: 0.7707 - recall_3: 0.7571 - val_loss: 0.3015 - val_accuracy: 0.0000e+00 - val_precision_3: 0.7763 - val_recall_3: 0.7586\n",
      "Epoch 95/125\n",
      "15886/15886 [==============================] - 0s 31us/sample - loss: 0.2855 - accuracy: 0.0000e+00 - precision_3: 0.7713 - recall_3: 0.7594 - val_loss: 0.2832 - val_accuracy: 0.0000e+00 - val_precision_3: 0.7758 - val_recall_3: 0.7600\n",
      "Epoch 96/125\n",
      "15886/15886 [==============================] - 0s 30us/sample - loss: 0.2851 - accuracy: 0.0000e+00 - precision_3: 0.7738 - recall_3: 0.7599 - val_loss: 0.2985 - val_accuracy: 0.0000e+00 - val_precision_3: 0.7758 - val_recall_3: 0.7653\n",
      "Epoch 97/125\n",
      "15886/15886 [==============================] - 0s 30us/sample - loss: 0.2832 - accuracy: 0.0000e+00 - precision_3: 0.7754 - recall_3: 0.7626 - val_loss: 0.3858 - val_accuracy: 0.0000e+00 - val_precision_3: 0.6512 - val_recall_3: 0.6451\n",
      "Epoch 98/125\n",
      "15886/15886 [==============================] - 0s 29us/sample - loss: 0.3147 - accuracy: 0.0000e+00 - precision_3: 0.7496 - recall_3: 0.7283 - val_loss: 0.2901 - val_accuracy: 0.0000e+00 - val_precision_3: 0.7727 - val_recall_3: 0.7539\n",
      "Epoch 99/125\n",
      "15886/15886 [==============================] - 1s 33us/sample - loss: 0.2846 - accuracy: 0.0000e+00 - precision_3: 0.7761 - recall_3: 0.7605 - val_loss: 0.2914 - val_accuracy: 0.0000e+00 - val_precision_3: 0.7737 - val_recall_3: 0.7461\n"
     ]
    },
    {
     "name": "stdout",
     "output_type": "stream",
     "text": [
      "Epoch 100/125\n",
      "15886/15886 [==============================] - 1s 41us/sample - loss: 0.2838 - accuracy: 0.0000e+00 - precision_3: 0.7739 - recall_3: 0.7597 - val_loss: 0.3044 - val_accuracy: 0.0000e+00 - val_precision_3: 0.7501 - val_recall_3: 0.7193\n",
      "Epoch 101/125\n",
      "15886/15886 [==============================] - 1s 33us/sample - loss: 0.2858 - accuracy: 0.0000e+00 - precision_3: 0.7717 - recall_3: 0.7592 - val_loss: 0.2960 - val_accuracy: 0.0000e+00 - val_precision_3: 0.7800 - val_recall_3: 0.7636\n",
      "Epoch 102/125\n",
      "15886/15886 [==============================] - 1s 32us/sample - loss: 0.2921 - accuracy: 0.0000e+00 - precision_3: 0.7615 - recall_3: 0.7496 - val_loss: 0.2935 - val_accuracy: 0.0000e+00 - val_precision_3: 0.7664 - val_recall_3: 0.7407\n",
      "Epoch 103/125\n",
      "15886/15886 [==============================] - 1s 32us/sample - loss: 0.2899 - accuracy: 0.0000e+00 - precision_3: 0.7681 - recall_3: 0.7548 - val_loss: 0.2839 - val_accuracy: 0.0000e+00 - val_precision_3: 0.7748 - val_recall_3: 0.7646\n",
      "Epoch 104/125\n",
      "15886/15886 [==============================] - 1s 32us/sample - loss: 0.2857 - accuracy: 0.0000e+00 - precision_3: 0.7711 - recall_3: 0.7575 - val_loss: 0.2812 - val_accuracy: 0.0000e+00 - val_precision_3: 0.7813 - val_recall_3: 0.7721\n",
      "Epoch 105/125\n",
      "15886/15886 [==============================] - 0s 31us/sample - loss: 0.2895 - accuracy: 0.0000e+00 - precision_3: 0.7712 - recall_3: 0.7578 - val_loss: 0.2900 - val_accuracy: 0.0000e+00 - val_precision_3: 0.7788 - val_recall_3: 0.7607\n",
      "Epoch 106/125\n",
      "15886/15886 [==============================] - 1s 34us/sample - loss: 0.2824 - accuracy: 0.0000e+00 - precision_3: 0.7756 - recall_3: 0.7630 - val_loss: 0.3615 - val_accuracy: 0.0000e+00 - val_precision_3: 0.6770 - val_recall_3: 0.6690\n",
      "Epoch 107/125\n",
      "15886/15886 [==============================] - 1s 32us/sample - loss: 0.2968 - accuracy: 0.0000e+00 - precision_3: 0.7625 - recall_3: 0.7506 - val_loss: 0.3007 - val_accuracy: 0.0000e+00 - val_precision_3: 0.7636 - val_recall_3: 0.7222\n",
      "Epoch 108/125\n",
      "15886/15886 [==============================] - 1s 32us/sample - loss: 0.2860 - accuracy: 0.0000e+00 - precision_3: 0.7705 - recall_3: 0.7559 - val_loss: 0.3221 - val_accuracy: 0.0000e+00 - val_precision_3: 0.7623 - val_recall_3: 0.7536\n",
      "Epoch 109/125\n",
      "15886/15886 [==============================] - 1s 32us/sample - loss: 0.2826 - accuracy: 0.0000e+00 - precision_3: 0.7770 - recall_3: 0.7649 - val_loss: 0.3315 - val_accuracy: 0.0000e+00 - val_precision_3: 0.7418 - val_recall_3: 0.7386\n",
      "Epoch 110/125\n",
      "15886/15886 [==============================] - 1s 41us/sample - loss: 0.2918 - accuracy: 0.0000e+00 - precision_3: 0.7668 - recall_3: 0.7531 - val_loss: 0.2830 - val_accuracy: 0.0000e+00 - val_precision_3: 0.7688 - val_recall_3: 0.7614\n",
      "Epoch 111/125\n",
      "15886/15886 [==============================] - 0s 31us/sample - loss: 0.2853 - accuracy: 0.0000e+00 - precision_3: 0.7719 - recall_3: 0.7584 - val_loss: 0.2836 - val_accuracy: 0.0000e+00 - val_precision_3: 0.7752 - val_recall_3: 0.7564\n",
      "Epoch 112/125\n",
      "15886/15886 [==============================] - 0s 31us/sample - loss: 0.2795 - accuracy: 0.0000e+00 - precision_3: 0.7758 - recall_3: 0.7640 - val_loss: 0.2870 - val_accuracy: 0.0000e+00 - val_precision_3: 0.7584 - val_recall_3: 0.7500\n",
      "Epoch 113/125\n",
      "15886/15886 [==============================] - 0s 29us/sample - loss: 0.2787 - accuracy: 0.0000e+00 - precision_3: 0.7760 - recall_3: 0.7650 - val_loss: 0.2883 - val_accuracy: 0.0000e+00 - val_precision_3: 0.7604 - val_recall_3: 0.7529\n",
      "Epoch 114/125\n",
      "15886/15886 [==============================] - 0s 28us/sample - loss: 0.2853 - accuracy: 0.0000e+00 - precision_3: 0.7716 - recall_3: 0.7580 - val_loss: 0.2770 - val_accuracy: 0.0000e+00 - val_precision_3: 0.7836 - val_recall_3: 0.7685\n",
      "Epoch 115/125\n",
      "15886/15886 [==============================] - 0s 29us/sample - loss: 0.2821 - accuracy: 0.0000e+00 - precision_3: 0.7741 - recall_3: 0.7634 - val_loss: 0.2962 - val_accuracy: 0.0000e+00 - val_precision_3: 0.7644 - val_recall_3: 0.7361\n",
      "Epoch 116/125\n",
      "15886/15886 [==============================] - 0s 29us/sample - loss: 0.2866 - accuracy: 0.0000e+00 - precision_3: 0.7733 - recall_3: 0.7588 - val_loss: 0.2766 - val_accuracy: 0.0000e+00 - val_precision_3: 0.7889 - val_recall_3: 0.7796\n",
      "Epoch 117/125\n",
      "15886/15886 [==============================] - 0s 30us/sample - loss: 0.2824 - accuracy: 0.0000e+00 - precision_3: 0.7731 - recall_3: 0.7636 - val_loss: 0.3142 - val_accuracy: 0.0000e+00 - val_precision_3: 0.7727 - val_recall_3: 0.7625\n",
      "Epoch 118/125\n",
      "15886/15886 [==============================] - 0s 31us/sample - loss: 0.2919 - accuracy: 0.0000e+00 - precision_3: 0.7697 - recall_3: 0.7549 - val_loss: 0.3008 - val_accuracy: 0.0000e+00 - val_precision_3: 0.7730 - val_recall_3: 0.7447\n",
      "Epoch 119/125\n",
      "15886/15886 [==============================] - 0s 28us/sample - loss: 0.2819 - accuracy: 0.0000e+00 - precision_3: 0.7746 - recall_3: 0.7618 - val_loss: 0.2796 - val_accuracy: 0.0000e+00 - val_precision_3: 0.7829 - val_recall_3: 0.7757\n",
      "Epoch 120/125\n",
      "15886/15886 [==============================] - 0s 28us/sample - loss: 0.2818 - accuracy: 0.0000e+00 - precision_3: 0.7757 - recall_3: 0.7630 - val_loss: 0.2748 - val_accuracy: 0.0000e+00 - val_precision_3: 0.7837 - val_recall_3: 0.7753\n",
      "Epoch 121/125\n",
      "15886/15886 [==============================] - 1s 37us/sample - loss: 0.2769 - accuracy: 0.0000e+00 - precision_3: 0.7766 - recall_3: 0.7659 - val_loss: 0.2846 - val_accuracy: 0.0000e+00 - val_precision_3: 0.7847 - val_recall_3: 0.7771\n",
      "Epoch 122/125\n",
      "15886/15886 [==============================] - 1s 37us/sample - loss: 0.2778 - accuracy: 0.0000e+00 - precision_3: 0.7801 - recall_3: 0.7702 - val_loss: 0.2915 - val_accuracy: 0.0000e+00 - val_precision_3: 0.7622 - val_recall_3: 0.7532\n",
      "Epoch 123/125\n",
      "15886/15886 [==============================] - 0s 29us/sample - loss: 0.2941 - accuracy: 0.0000e+00 - precision_3: 0.7652 - recall_3: 0.7524 - val_loss: 0.4055 - val_accuracy: 0.0018 - val_precision_3: 0.7113 - val_recall_3: 0.7101\n",
      "Epoch 124/125\n",
      "15886/15886 [==============================] - 0s 30us/sample - loss: 0.3180 - accuracy: 2.0458e-04 - precision_3: 0.7569 - recall_3: 0.7264 - val_loss: 0.2804 - val_accuracy: 0.0000e+00 - val_precision_3: 0.7829 - val_recall_3: 0.7689\n",
      "Epoch 125/125\n",
      "15886/15886 [==============================] - 0s 30us/sample - loss: 0.2809 - accuracy: 0.0000e+00 - precision_3: 0.7753 - recall_3: 0.7635 - val_loss: 0.2800 - val_accuracy: 0.0000e+00 - val_precision_3: 0.7773 - val_recall_3: 0.7682\n"
     ]
    }
   ],
   "source": [
    "history = model_pet.fit(X_train_pet, Y_train_pet, validation_data=(X_val_pet, Y_val_pet), batch_size = 256, epochs = 125, shuffle = True)"
   ]
  },
  {
   "cell_type": "code",
   "execution_count": 117,
   "metadata": {},
   "outputs": [
    {
     "data": {
      "text/plain": [
       "[<matplotlib.lines.Line2D at 0x274384247b8>]"
      ]
     },
     "execution_count": 117,
     "metadata": {},
     "output_type": "execute_result"
    },
    {
     "data": {
      "image/png": "[encoded data removed]",
      "text/plain": [
       "<Figure size 432x288 with 1 Axes>"
      ]
     },
     "metadata": {
      "needs_background": "light"
     },
     "output_type": "display_data"
    }
   ],
   "source": [
    "plt.plot(history.history['loss'])\n",
    "plt.plot(history.history['val_loss'])"
   ]
  },
  {
   "cell_type": "code",
   "execution_count": 118,
   "metadata": {},
   "outputs": [],
   "source": [
    "predict_pet = model_pet.predict(test_data)"
   ]
  },
  {
   "cell_type": "code",
   "execution_count": 119,
   "metadata": {},
   "outputs": [
    {
     "data": {
      "text/plain": [
       "array([[1.1133241e-09, 7.3102571e-02, 9.2689526e-01, 2.2613117e-06],\n",
       "       [1.1203843e-02, 2.9212239e-01, 6.7530197e-01, 2.1371808e-02],\n",
       "       [3.4546156e-06, 8.0029689e-02, 9.1978294e-01, 1.8383756e-04],\n",
       "       ...,\n",
       "       [8.5704982e-05, 8.8699885e-02, 9.1044748e-01, 7.6687941e-04],\n",
       "       [2.5197574e-01, 2.6616471e-02, 1.7904818e-01, 5.4235953e-01],\n",
       "       [5.9459114e-04, 2.1807690e-01, 7.7760112e-01, 3.7273895e-03]],\n",
       "      dtype=float32)"
      ]
     },
     "execution_count": 119,
     "metadata": {},
     "output_type": "execute_result"
    }
   ],
   "source": [
    "predict_pet"
   ]
  },
  {
   "cell_type": "code",
   "execution_count": 120,
   "metadata": {},
   "outputs": [],
   "source": [
    "pred_class_pet = []\n",
    "for pred in predict_pet:\n",
    "    lis = list(pred)\n",
    "    pred_class_pet.append(lis.index(max(lis)))"
   ]
  },
  {
   "cell_type": "code",
   "execution_count": 121,
   "metadata": {},
   "outputs": [],
   "source": [
    "pred_class_pet = pd.DataFrame(pred_class_pet, columns=['pet_category'])"
   ]
  },
  {
   "cell_type": "code",
   "execution_count": 122,
   "metadata": {},
   "outputs": [
    {
     "data": {
      "text/plain": [
       "2    4941\n",
       "1    2799\n",
       "3     332\n",
       "Name: pet_category, dtype: int64"
      ]
     },
     "execution_count": 122,
     "metadata": {},
     "output_type": "execute_result"
    }
   ],
   "source": [
    "pred_class_pet.pet_category.value_counts()"
   ]
  },
  {
   "cell_type": "code",
   "execution_count": 123,
   "metadata": {},
   "outputs": [],
   "source": [
    "def replace(cols):\n",
    "    value = cols[0]\n",
    "    if value == 3:\n",
    "        return value + 1\n",
    "    else:\n",
    "        return value\n",
    "    \n",
    "pred_class_pet['pet_category'] = pred_class_pet[['pet_category']].apply(replace, axis=1)"
   ]
  },
  {
   "cell_type": "code",
   "execution_count": 124,
   "metadata": {},
   "outputs": [],
   "source": [
    "temp_data = pd.read_csv('Dataset/test.csv')\n",
    "final_csv = pd.concat([temp_data.pet_id, pred_class_breed, pred_class_pet], axis=1)\n",
    "final_csv.to_csv('nnpreds.csv', index=False)"
   ]
  },
  {
   "cell_type": "markdown",
   "metadata": {},
   "source": [
    "# Summary\n",
    "\n",
    "Used boosting algorithm, that is LightGBM model to get the best predictiono in the competition which helped me secure a rank of 274 participated by more than 5000 candidates.\n",
    "\n",
    "Learnings during the competition:\n",
    "1. Donot neglect any feature without knowing its importance.\n",
    "2. random_state parameter have influence on the model accuracy.\n",
    "3. Working of LightGBM model.\n",
    "4. Increasing n_estimators does not mean the model is better."
   ]
  },
  {
   "cell_type": "code",
   "execution_count": null,
   "metadata": {},
   "outputs": [],
   "source": []
  }
 ],
 "metadata": {
  "kernelspec": {
   "display_name": "Python 3",
   "language": "python",
   "name": "python3"
  },
  "language_info": {
   "codemirror_mode": {
    "name": "ipython",
    "version": 3
   },
   "file_extension": ".py",
   "mimetype": "text/x-python",
   "name": "python",
   "nbconvert_exporter": "python",
   "pygments_lexer": "ipython3",
   "version": "3.7.3"
  }
 },
 "nbformat": 4,
 "nbformat_minor": 2
}
